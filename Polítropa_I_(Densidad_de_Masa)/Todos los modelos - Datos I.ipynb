{
 "cells": [
  {
   "cell_type": "code",
   "execution_count": 1,
   "metadata": {
    "collapsed": true
   },
   "outputs": [],
   "source": [
    "import numpy as np\n",
    "import matplotlib.pyplot as plt\n",
    "import math\n",
    "from scipy import integrate\n",
    "from scipy.integrate import solve_ivp"
   ]
  },
  {
   "cell_type": "code",
   "execution_count": 2,
   "metadata": {},
   "outputs": [],
   "source": [
    "plt.rc('text', usetex = True)\n",
    "plt.rc('font', **{'family' : \"sans-serif\"})\n",
    "params = {'text.latex.preamble' : [r'\\usepackage{amsmath}']}\n",
    "plt.rcParams.update(params)\n",
    "plt.rcParams['xtick.labelsize'] = 8\n",
    "plt.rcParams['ytick.labelsize'] = 8"
   ]
  },
  {
   "cell_type": "code",
   "execution_count": 3,
   "metadata": {},
   "outputs": [],
   "source": [
    "def funciones(xi,y, sigma, n, h):\n",
    "    psi_,eta_,psi1_,eta1_ = y\n",
    "    dydxi = [h*(eta_ + sigma*xi**(3)*psi_**(n+1))*((1 - n*sigma) + (n+1)*sigma*psi_)/xi/(2*(n+1)*sigma*eta_ - xi)\n",
    "           ,xi**(2)*psi_**(n)*(1 - n*sigma + n*sigma*psi_) \n",
    "           ,h*(((eta1_ + 3*sigma*xi**(2)*psi_**(n+1) + sigma*xi**(3)*(n+1)*psi_**(n)*psi1_)*((1 - n*sigma) + (n + 1)*sigma*psi_)/xi/(2*(n+1)*sigma*eta_ - xi)) + (sigma*(n+1)*psi1_)*(eta_ + sigma*xi**(3)*psi_**(n+1))/xi/(2*(n+1)*sigma*eta_ - xi)  -  (((1 - n*sigma) + (n + 1)*sigma*psi_)*(eta_ + sigma*xi**(3)*psi_**(n+1))/xi**(2)/(2*(n+1)*sigma*eta_ - xi) )  -  (((1 - n*sigma) + (n + 1)*sigma*psi_)*(eta_ + sigma*xi**(3)*psi_**(n+1))*(2*(n+1)*sigma*eta1_ - 1)/xi/((2*(n+1)*sigma*eta_ - xi)**(2))))         \n",
    "           ,(2*xi*psi_**(n) + n*xi**(2)*psi_**(n-1)*psi1_)*(1 - n*sigma + n*sigma* psi_) + xi**(2)*psi_**(n)*n*sigma*psi1_]\n",
    "    return dydxi"
   ]
  },
  {
   "cell_type": "code",
   "execution_count": 4,
   "metadata": {},
   "outputs": [],
   "source": [
    "c = 2.997*10**(8)               # Velocidad de la luz en S.I.\n",
    "G = 6.673*10**(-11)             # Constante Gravitación Universal en S.I. \n",
    "Msun = 1.989*10**(30)           # 1 Masa solar en S.I."
   ]
  },
  {
   "cell_type": "code",
   "execution_count": 5,
   "metadata": {},
   "outputs": [
    {
     "name": "stdout",
     "output_type": "stream",
     "text": [
      "C interval: 0, 0.0625, 0.125, 0.1875, 0.25\n",
      "n interval: 0.5, 1.5, 3.0\n",
      "σ interval: 0.2, 0.4, 0.6, 0.8\n",
      "Number of models:  60\n"
     ]
    }
   ],
   "source": [
    "                                               ## Lista de parámetros ##\n",
    "\n",
    "# C\n",
    "C_inicial = 0                    # C inicial            \n",
    "C_final =  1/4                   # C final\n",
    "Paso_C = 1/32                    # Diferencia entre valores consecutivos\n",
    "Num_C = round((Paso_C + C_final - C_inicial)/Paso_C)  # Número de valores\n",
    "Lista_C = np.linspace(C_inicial,C_final,Num_C)        # Lista con valores desde C inicial hasta C final\n",
    "Lista_C = [0, 1/16, 1/8, 3/16, 1/4]\n",
    "print('C interval: ',end='')\n",
    "print(*Lista_C, sep=', ')\n",
    "\n",
    "# n \n",
    "n_inicial = 0.5          # n inicial \n",
    "n_final = 0.4             # n final\n",
    "Paso_n = 0.5             # Diferencia entre valores consecutivos\n",
    "Num_n = round((Paso_n + n_final - n_inicial)/Paso_n)  # Número de valores\n",
    "Lista_n = np.linspace(n_inicial,n_final,Num_n)        # Lista con valores desde n inical hasta n final\n",
    "Lista_n = [0.5,1.5,3.0]\n",
    "print('n interval: ',end='')                                                    \n",
    "print(*Lista_n, sep=', ')\n",
    "\n",
    "# Sigma = razón entre Presión central y Densidad central\n",
    "sigma_inicial = 0.05             # sigma inicial             \n",
    "sigma_final = 0.8                # sigma final\n",
    "Paso_sigma = 0.05                # Diferencia entre valores consecutivos\n",
    "Num_sigma = round((Paso_sigma + sigma_final - sigma_inicial)/Paso_sigma)  # Número de valores\n",
    "Lista_sigma = np.linspace(sigma_inicial,sigma_final,Num_sigma)            # Lista con valores desde sigma inical hasta sigma final\n",
    "Lista_sigma = [0.2,0.4,0.6,0.8]\n",
    "print('\\u03c3 interval: ',end='')\n",
    "print(*Lista_sigma, sep=', ')\n",
    "\n",
    "Number_of_models = len(Lista_C)*len(Lista_n)*len(Lista_sigma)\n",
    "print('Number of models: ', Number_of_models)\n",
    "\n",
    "rho_c = 2.5*10**(18)               # Densidad central"
   ]
  },
  {
   "cell_type": "code",
   "execution_count": 6,
   "metadata": {},
   "outputs": [],
   "source": [
    "ListaModelos = []                                        # Container for all models \n",
    "\n",
    "for i in range(len(Lista_C)):\n",
    "    \n",
    "    ListaModelos.append([])                              # Container for C\n",
    "    \n",
    "    for j in range(len(Lista_n)):\n",
    "        \n",
    "        ListaModelos[i].append([])                       # Container for n"
   ]
  },
  {
   "cell_type": "code",
   "execution_count": 7,
   "metadata": {},
   "outputs": [
    {
     "name": "stderr",
     "output_type": "stream",
     "text": [
      "C:\\Users\\DANIEL\\Anaconda3\\lib\\site-packages\\ipykernel_launcher.py:3: RuntimeWarning: invalid value encountered in double_scalars\n",
      "  This is separate from the ipykernel package so we can avoid doing imports until\n",
      "C:\\Users\\DANIEL\\Anaconda3\\lib\\site-packages\\ipykernel_launcher.py:4: RuntimeWarning: invalid value encountered in double_scalars\n",
      "  after removing the cwd from sys.path.\n",
      "C:\\Users\\DANIEL\\Anaconda3\\lib\\site-packages\\ipykernel_launcher.py:5: RuntimeWarning: invalid value encountered in double_scalars\n",
      "  \"\"\"\n",
      "C:\\Users\\DANIEL\\Anaconda3\\lib\\site-packages\\ipykernel_launcher.py:6: RuntimeWarning: invalid value encountered in double_scalars\n",
      "  \n",
      "C:\\Users\\DANIEL\\Anaconda3\\lib\\site-packages\\ipykernel_launcher.py:89: RuntimeWarning: divide by zero encountered in true_divide\n",
      "C:\\Users\\DANIEL\\Anaconda3\\lib\\site-packages\\ipykernel_launcher.py:91: RuntimeWarning: divide by zero encountered in true_divide\n",
      "C:\\Users\\DANIEL\\Anaconda3\\lib\\site-packages\\ipykernel_launcher.py:93: RuntimeWarning: invalid value encountered in add\n"
     ]
    },
    {
     "name": "stdout",
     "output_type": "stream",
     "text": [
      "insuficiente intervalo de integración xi por favor auméntelo\n",
      "insuficiente intervalo de integración xi por favor auméntelo\n",
      "insuficiente intervalo de integración xi por favor auméntelo\n",
      "insuficiente intervalo de integración xi por favor auméntelo\n",
      "insuficiente intervalo de integración xi por favor auméntelo\n",
      "insuficiente intervalo de integración xi por favor auméntelo\n",
      "insuficiente intervalo de integración xi por favor auméntelo\n",
      "insuficiente intervalo de integración xi por favor auméntelo\n",
      "insuficiente intervalo de integración xi por favor auméntelo\n",
      "insuficiente intervalo de integración xi por favor auméntelo\n",
      "insuficiente intervalo de integración xi por favor auméntelo\n",
      "insuficiente intervalo de integración xi por favor auméntelo\n",
      "insuficiente intervalo de integración xi por favor auméntelo\n",
      "insuficiente intervalo de integración xi por favor auméntelo\n",
      "insuficiente intervalo de integración xi por favor auméntelo\n",
      "insuficiente intervalo de integración xi por favor auméntelo\n",
      "insuficiente intervalo de integración xi por favor auméntelo\n",
      "insuficiente intervalo de integración xi por favor auméntelo\n",
      "insuficiente intervalo de integración xi por favor auméntelo\n",
      "insuficiente intervalo de integración xi por favor auméntelo\n",
      "Wall time: 1.21 s\n"
     ]
    }
   ],
   "source": [
    "%%time\n",
    "\n",
    "contador = 0\n",
    "\n",
    "for i in range(len(Lista_C)):\n",
    "    \n",
    "    C = Lista_C[i]\n",
    "    h = 1 - 2*C\n",
    "    \n",
    "    for j in range(len(Lista_n)):\n",
    "        \n",
    "        n = Lista_n[j]\n",
    "        \n",
    "        for k in range(len(Lista_sigma)):\n",
    "            \n",
    "            sigma = Lista_sigma[k]\n",
    "                    \n",
    "            K = sigma*c**(2)/rho_c**(1/n)      # k**(n) en m**(3)/kg\n",
    "                     \n",
    "            # Condiciones iniciales\n",
    "            Psi0 = 1.0\n",
    "            Eta0 = 0.0\n",
    "            Psi10 = 0.0\n",
    "            Eta10 = 0.0\n",
    "            \n",
    "            y0 = [Psi0,Eta0,Psi10,Eta10]\n",
    "            \n",
    "            def stop_condition(xi,y,sigma,n,h):\n",
    "                return y[0] - 10**-14\n",
    "            \n",
    "            stop_condition.terminal = True\n",
    "            \n",
    "            xi0 = 10**(-14)\n",
    "            ximax = 10000\n",
    "    \n",
    "            xi_span = (xi0,ximax)\n",
    "        \n",
    "            soluciones = solve_ivp(funciones,xi_span,y0,method='RK45',events=stop_condition,\n",
    "                                   args=(sigma,n,h))\n",
    "            \n",
    "            if soluciones.status == 0:\n",
    "                print (\"insuficiente intervalo de integración xi por favor auméntelo\")\n",
    "                contador = contador + 1\n",
    "                continue\n",
    "            else:\n",
    "                Psi = soluciones.y[0]\n",
    "                Eta = soluciones.y[1]\n",
    "                Psi1 = soluciones.y[2]\n",
    "                Eta1 = soluciones.y[3]\n",
    "                xi = soluciones.t\n",
    "            \n",
    "            #########################################################################################################\n",
    "                \n",
    "            xiNorm = xi/xi[-1]                                       # xi normalized\n",
    "            \n",
    "            PNorm = Psi**(n+1)\n",
    "            \n",
    "            m = (c**(2)*sigma*(n+1)/(4*np.pi*rho_c)**(1/3)/G)**(3/2)*Eta/Msun   # Masa en unidades de masa solar\n",
    "            r = (c**(2)*sigma*(n+1)/4/np.pi/G/rho_c)**(1/2)*xi/1000             # Radio en kilómetros\n",
    "            mr = 2*sigma*(n+1)*Eta/xi                                           # 2*G*m/c**(2)/r\n",
    "            \n",
    "            Densidad = Psi**(n)                                      # Density\n",
    "            \n",
    "            DensidadEnergia = (1 - n*sigma)*Psi**(n) + n*sigma*Psi**(n+1)\n",
    "            \n",
    "            Dprima = n*Psi**(n-1)*Psi1                               # Density gradient\n",
    "            \n",
    "            # Tangential pressure\n",
    "            PTNorm = (C*(n+1)*(Eta + sigma*Psi**(n+1)*xi**(3))/(xi - 2*Eta*sigma*(n+1)))*((1 - n*sigma)*Psi**(n) + (n+1)*sigma*Psi**(n+1)) + Psi**(n+1)\n",
    "                    \n",
    "            Pprima = (n+1)*Psi**(n)*Psi1\n",
    "            \n",
    "            # Tangential pressure gradient\n",
    "            Ptprima = C*(n+1)*((Eta1 + 3*sigma*xi**(2)*Psi**(n+1) + sigma*(n+1)*xi**(3)*Psi**(n)*Psi1)*((1-sigma*n)*Psi**(n) + sigma*(n+1)*Psi**(n+1))/(xi - 2*Eta*(n+1)*sigma) + (Eta + sigma*xi**(3)*Psi**(n+1))*(n*(1 - sigma*n)*Psi**(n-1)*Psi1 + sigma*(n+1)**(2)*Psi**(n)*Psi1)/(xi - 2*Eta*(n+1)*sigma) - (Eta + sigma*xi**(3)*Psi**(n+1))*((1 - sigma*n)*Psi**(n) + sigma*(n+1)*Psi**(n+1))*(1 - 2*Eta1*(n+1)*sigma)/(xi - 2*Eta*(n+1)*sigma)**(2)) + (n+1)*Psi**(n)*Psi1\n",
    "            \n",
    "            SEC = (1/sigma)*DensidadEnergia - PNorm - 2*PTNorm                # Strong energy condition (SEC)   \n",
    "            \n",
    "            v2r =  ((n+1)/n)*(sigma*Psi)/(sigma*Psi*(n+1) + (1 - n*sigma))                      # Sound speed squared\n",
    "            \n",
    "            # Tangential sound speed squared\n",
    "            v2t = C*sigma*(n+1)*(Eta + sigma*Psi**(n+1)*xi**(3))/(xi - 2*Eta*sigma*(n+1)) + ((n+1)/n)*(sigma*Psi)/(sigma*Psi*(n+1) + (1 - n*sigma))\n",
    "            \n",
    "            Gamma = v2r*(DensidadEnergia + sigma*PNorm)/PNorm/sigma\n",
    "            \n",
    "            # Second derivative of Psi\n",
    "            Psi11 = h*(((Eta1 + 3*sigma*xi**(2)*Psi**(n+1) + sigma*xi**(3)*(n+1)*Psi**(n)*Psi1)*((1 - n*sigma) + (n+1)*sigma*Psi)/xi/(2*(n+1)*sigma*Eta - xi)) + (sigma*(n+1)*Psi1)*(Eta + sigma*xi**(3)*Psi**(n+1))/xi/(2*(n+1)*sigma*Eta - xi) - (((1 - n*sigma) + (n+1)*sigma*Psi)*(Eta + sigma*xi**(3)*Psi**(n+1))/xi**(2)/(2*(n+1)*sigma*Eta - xi))     -     (((1 - n*sigma) + (n+1)*sigma*Psi)*(Eta + sigma*xi**(3)*Psi**(n+1))*(2*(n+1)*sigma*Eta1 - 1)/xi/((2*(n+1)*sigma*Eta - xi)**(2))))\n",
    "            \n",
    "            # Cracking: deltaR1: Density, deltaR2: Mass, deltaR3: Pressure, delta R4: Pressure gradient   \n",
    "            deltaR1 = h*((n+1)*sigma*(Eta + xi**(3)*sigma*Psi**(n+1))/xi/(xi - 2*sigma*n*Eta - 2*sigma* Eta))\n",
    "            deltaR2 = h*(((1 - n*sigma)*Psi**(n) + (n+1)*sigma*Psi**(n+1))*(1 + 2*xi**(2)*sigma**(2)*(n+1)*Psi**(n+1))/(xi - 2*sigma*(n+1)*Eta)**(2))*(xi**(2)*sigma*(n+1)*((1 - n*sigma)*Psi**(n) + n*sigma*Psi**(n+1))/((1 - n*sigma)*n*Psi**(n-1)*Psi1 + n*sigma*(n+1)*Psi**(n)*Psi1))\n",
    "            deltaR3 = h*(sigma*(n+1)*(Eta + xi**(3)*(1 - n*sigma)*Psi**(n) + xi**(3)*sigma*(n+2)*Psi**(n+1))/xi/(xi - 2*sigma*(n+1)*Eta))*(1 + 1/n)*(sigma*Psi/(sigma*Psi*(n+1) + (1 - n*sigma)))\n",
    "            deltaR4 = sigma*(n+1)*(Psi**(n)*Psi11 + n*Psi**(n-1)*Psi1**(2))/((1 - n*sigma)*n*Psi**(n-1)*Psi1 + n*sigma*(n+1)*Psi**(n)*Psi1)\n",
    "                      \n",
    "            deltaRPolitropa = deltaR1 + deltaR2 + deltaR3 + deltaR4\n",
    "            \n",
    "            # Buoyancy\n",
    "            Psin11 = (n*(1 - n*sigma))*(Psi**(n-1)*Psi11 + (n-1)*Psi**(n-2)*Psi1**(2)) + (n*sigma*(n+1))*(Psi**(n)*Psi11 + n*Psi**(n-1)*Psi1**(2))\n",
    "            \n",
    "            M = (c**(2)*(n+1)/(4*np.pi)**(1/3)/G)**(3/2)*(k/c**(2))**(n/2)*sigma**((3-n)/2)*Eta[-1]/Msun  # Masa en unidades de masa solar\n",
    "            \n",
    "            R = (c**(2)*(n+1)/4/np.pi/G)**(1/2)*(k/c**(2))**(n/2)*sigma**((1-n)/2)*xi[-1]/1000         # Radio en kilómetros\n",
    "            \n",
    "            ##########################################################################################################\n",
    "            \n",
    "                                         #0    #1     #2       #3     #4      #5      #6      #7                       \n",
    "            ListaModelos[i][j].append([xiNorm, mr, Densidad, PNorm, PTNorm, Dprima, Pprima, Ptprima,\n",
    "                                        #8  #9   #10   #11          #12         #13   #14  #15   #16         #17\n",
    "                                       SEC, v2r, v2t, Gamma, deltaRPolitropa, Psin11,  C  , n , sigma, DensidadEnergia])\n",
    "        \n"
   ]
  },
  {
   "cell_type": "code",
   "execution_count": 8,
   "metadata": {},
   "outputs": [
    {
     "name": "stdout",
     "output_type": "stream",
     "text": [
      "20  de  60  NO son integrables\n"
     ]
    }
   ],
   "source": [
    "print(contador, ' de ', Number_of_models, ' NO son integrables')"
   ]
  },
  {
   "cell_type": "markdown",
   "metadata": {},
   "source": [
    "# <center> 2m/r < 1\n",
    "# <center> C1, C2 and C3"
   ]
  },
  {
   "cell_type": "code",
   "execution_count": 10,
   "metadata": {},
   "outputs": [
    {
     "ename": "IndexError",
     "evalue": "list index out of range",
     "output_type": "error",
     "traceback": [
      "\u001b[1;31m---------------------------------------------------------------------------\u001b[0m",
      "\u001b[1;31mIndexError\u001b[0m                                Traceback (most recent call last)",
      "\u001b[1;32m<ipython-input-10-3124e7230083>\u001b[0m in \u001b[0;36m<module>\u001b[1;34m()\u001b[0m\n\u001b[0;32m      7\u001b[0m         \u001b[1;32mfor\u001b[0m \u001b[0mk\u001b[0m \u001b[1;32min\u001b[0m \u001b[0mrange\u001b[0m\u001b[1;33m(\u001b[0m\u001b[0mlen\u001b[0m\u001b[1;33m(\u001b[0m\u001b[0mLista_sigma\u001b[0m\u001b[1;33m)\u001b[0m\u001b[1;33m)\u001b[0m\u001b[1;33m:\u001b[0m\u001b[1;33m\u001b[0m\u001b[0m\n\u001b[0;32m      8\u001b[0m \u001b[1;33m\u001b[0m\u001b[0m\n\u001b[1;32m----> 9\u001b[1;33m             \u001b[1;32mif\u001b[0m \u001b[0mlen\u001b[0m\u001b[1;33m(\u001b[0m\u001b[0mListaModelos\u001b[0m\u001b[1;33m[\u001b[0m\u001b[0mi\u001b[0m\u001b[1;33m]\u001b[0m\u001b[1;33m[\u001b[0m\u001b[0mj\u001b[0m\u001b[1;33m]\u001b[0m\u001b[1;33m[\u001b[0m\u001b[0mk\u001b[0m\u001b[1;33m]\u001b[0m\u001b[1;33m[\u001b[0m\u001b[1;36m1\u001b[0m\u001b[1;33m]\u001b[0m\u001b[1;33m)\u001b[0m \u001b[1;33m!=\u001b[0m \u001b[1;36m0\u001b[0m\u001b[1;33m:\u001b[0m\u001b[1;33m\u001b[0m\u001b[0m\n\u001b[0m\u001b[0;32m     10\u001b[0m \u001b[1;33m\u001b[0m\u001b[0m\n\u001b[0;32m     11\u001b[0m                 \u001b[1;32mif\u001b[0m \u001b[0many\u001b[0m\u001b[1;33m(\u001b[0m\u001b[0mListaModelos\u001b[0m\u001b[1;33m[\u001b[0m\u001b[0mi\u001b[0m\u001b[1;33m]\u001b[0m\u001b[1;33m[\u001b[0m\u001b[0mj\u001b[0m\u001b[1;33m]\u001b[0m\u001b[1;33m[\u001b[0m\u001b[0mk\u001b[0m\u001b[1;33m]\u001b[0m\u001b[1;33m[\u001b[0m\u001b[1;36m1\u001b[0m\u001b[1;33m]\u001b[0m \u001b[1;33m>=\u001b[0m \u001b[1;36m1\u001b[0m\u001b[1;33m)\u001b[0m\u001b[1;33m:\u001b[0m\u001b[1;33m\u001b[0m\u001b[0m\n",
      "\u001b[1;31mIndexError\u001b[0m: list index out of range"
     ]
    }
   ],
   "source": [
    "count = 0\n",
    "\n",
    "for i in range(len(Lista_C)):\n",
    "    \n",
    "    for j in range(len(Lista_n)):\n",
    "        \n",
    "        for k in range(len(Lista_sigma)):\n",
    "            \n",
    "            if len(ListaModelos[i][j][k][1]) != 0:\n",
    "                \n",
    "                if any(ListaModelos[i][j][k][1] >= 1):\n",
    "                    \n",
    "                    print('2m/r > 1. Parámetros: ','C = %.3f, '%(ListaModelos[i][j][k][14]),\n",
    "                          'n = %.1f, '%(ListaModelos[i][j][k][15]),'\\u03c3 = %.2f, '%(ListaModelos[i][j][k][16]))\n",
    "                    count = count + 1\n",
    "                \n",
    "                else:\n",
    "                    continue\n",
    "            else:\n",
    "                continue\n",
    "                \n",
    "print('Número total de modelos que NO cumplen 2m/r < 1:           ', count, ' de ', contador)\n"
   ]
  },
  {
   "cell_type": "markdown",
   "metadata": {},
   "source": [
    "# <center> Density, Radial Pressure and Tangential Pressure   > 0\n",
    "# <center> C4"
   ]
  },
  {
   "cell_type": "code",
   "execution_count": 11,
   "metadata": {},
   "outputs": [
    {
     "ename": "IndexError",
     "evalue": "list index out of range",
     "output_type": "error",
     "traceback": [
      "\u001b[1;31m---------------------------------------------------------------------------\u001b[0m",
      "\u001b[1;31mIndexError\u001b[0m                                Traceback (most recent call last)",
      "\u001b[1;32m<ipython-input-11-e1498edc3e7b>\u001b[0m in \u001b[0;36m<module>\u001b[1;34m()\u001b[0m\n\u001b[0;32m      9\u001b[0m         \u001b[1;32mfor\u001b[0m \u001b[0mk\u001b[0m \u001b[1;32min\u001b[0m \u001b[0mrange\u001b[0m\u001b[1;33m(\u001b[0m\u001b[0mlen\u001b[0m\u001b[1;33m(\u001b[0m\u001b[0mLista_sigma\u001b[0m\u001b[1;33m)\u001b[0m\u001b[1;33m)\u001b[0m\u001b[1;33m:\u001b[0m\u001b[1;33m\u001b[0m\u001b[0m\n\u001b[0;32m     10\u001b[0m \u001b[1;33m\u001b[0m\u001b[0m\n\u001b[1;32m---> 11\u001b[1;33m             \u001b[1;32mif\u001b[0m \u001b[0mlen\u001b[0m\u001b[1;33m(\u001b[0m\u001b[0mListaModelos\u001b[0m\u001b[1;33m[\u001b[0m\u001b[0mi\u001b[0m\u001b[1;33m]\u001b[0m\u001b[1;33m[\u001b[0m\u001b[0mj\u001b[0m\u001b[1;33m]\u001b[0m\u001b[1;33m[\u001b[0m\u001b[0mk\u001b[0m\u001b[1;33m]\u001b[0m\u001b[1;33m)\u001b[0m \u001b[1;33m!=\u001b[0m \u001b[1;36m0\u001b[0m\u001b[1;33m:\u001b[0m\u001b[1;33m\u001b[0m\u001b[0m\n\u001b[0m\u001b[0;32m     12\u001b[0m \u001b[1;33m\u001b[0m\u001b[0m\n\u001b[0;32m     13\u001b[0m                 \u001b[1;32mif\u001b[0m \u001b[0many\u001b[0m\u001b[1;33m(\u001b[0m\u001b[0mListaModelos\u001b[0m\u001b[1;33m[\u001b[0m\u001b[0mi\u001b[0m\u001b[1;33m]\u001b[0m\u001b[1;33m[\u001b[0m\u001b[0mj\u001b[0m\u001b[1;33m]\u001b[0m\u001b[1;33m[\u001b[0m\u001b[0mk\u001b[0m\u001b[1;33m]\u001b[0m\u001b[1;33m[\u001b[0m\u001b[1;36m2\u001b[0m\u001b[1;33m]\u001b[0m \u001b[1;33m<\u001b[0m \u001b[1;36m0\u001b[0m\u001b[1;33m)\u001b[0m\u001b[1;33m:\u001b[0m\u001b[1;33m\u001b[0m\u001b[0m\n",
      "\u001b[1;31mIndexError\u001b[0m: list index out of range"
     ]
    }
   ],
   "source": [
    "count1 = 0\n",
    "count2 = 0\n",
    "count3 = 0\n",
    "\n",
    "for i in range(len(Lista_C)):\n",
    "    \n",
    "    for j in range(len(Lista_n)):\n",
    "        \n",
    "        for k in range(len(Lista_sigma)):\n",
    "            \n",
    "            if len(ListaModelos[i][j][k]) != 0:\n",
    "                \n",
    "                if any(ListaModelos[i][j][k][2] < 0):\n",
    "                    \n",
    "                    print('Densidad < 0. Parámetros: ','C = %.3f, '%(ListaModelos[i][j][k][14]),\n",
    "                         'n = %.1f, '%(ListaModelos[i][j][k][15]),'\\u03c3 = %.2f, '%(ListaModelos[i][j][k][16]))\n",
    "                    count1 = count1 + 1\n",
    "                else:\n",
    "                    pass\n",
    "                \n",
    "                if any(ListaModelos[i][j][k][3] < 0):\n",
    "                    \n",
    "                    print('Presión radial < 0. Parámetros: ','C = %.3f, '%(ListaModelos[i][j][k][14]),\n",
    "                         'n = %.1f, '%(ListaModelos[i][j][k][15]),'\\u03c3 = %.2f, '%(ListaModelos[i][j][k][16]))\n",
    "                    count2 = count2 + 1\n",
    "                    \n",
    "                else:\n",
    "                    pass\n",
    "                \n",
    "                if any(ListaModelos[i][j][k][4] < 0):\n",
    "                    \n",
    "                    print('Presión tangencial < 0. Parámetros: ','C = %.3f, '%(ListaModelos[i][j][k][14]),\n",
    "                         'n = %.1f, '%(ListaModelos[i][j][k][15]),'\\u03c3 = %.2f, '%(ListaModelos[i][j][k][16]))\n",
    "                    count3 = count3 + 1\n",
    "                else:\n",
    "                    continue\n",
    "                \n",
    "print('Número total de modelos que no cumplen Densidad > 0:           ', count1, ' de ', contador)\n",
    "print('Número total de modelos que no cumplen Presión radial > 0:     ', count2, ' de ', contador)\n",
    "print('Número total de modelos que no cumplen Presión tangencial > 0: ', count3, ' de ', contador)"
   ]
  },
  {
   "cell_type": "markdown",
   "metadata": {},
   "source": [
    "# <center> Density gradient, Radial Pressure gradient and Tangetial Pressure gradient  < 0\n",
    "# <center> C5"
   ]
  },
  {
   "cell_type": "code",
   "execution_count": null,
   "metadata": {},
   "outputs": [],
   "source": [
    "count1 = 0\n",
    "count2 = 0\n",
    "count3 = 0\n",
    "\n",
    "for i in range(len(Lista_C)):\n",
    "    \n",
    "    for j in range(len(Lista_n)):\n",
    "        \n",
    "        for k in range(len(Lista_sigma)):\n",
    "            \n",
    "            if len(ListaModelos[i][j][k]) != 0:\n",
    "            \n",
    "                if any(ListaModelos[i][j][k][5][50:] > 0):\n",
    "                    \n",
    "                    print('Gradiente de densidad > 0. Parámetros: ','C = %.3f, '%(ListaModelos[i][j][k][14]),\n",
    "                         'n = %.1f, '%(ListaModelos[i][j][k][15]),'\\u03c3 = %.2f, '%(ListaModelos[i][j][k][16]))\n",
    "                    count1 = count1 + 1\n",
    "                else:\n",
    "                    pass\n",
    "                \n",
    "                if any(ListaModelos[i][j][k][6][50:] > 0):\n",
    "                    \n",
    "                    print('Gradiente de presión > 0. Parámetros: ','C = %.3f, '%(ListaModelos[i][j][k][14]),\n",
    "                         'n = %.1f, '%(ListaModelos[i][j][k][15]),'\\u03c3 = %.2f, '%(ListaModelos[i][j][k][16]))\n",
    "                    count2 = count2 + 1\n",
    "                else:\n",
    "                    pass\n",
    "                \n",
    "                if any(ListaModelos[i][j][k][7][2000:] > 0):\n",
    "                    \n",
    "                    print('Gradiente de presión tangencial > 0. Parámetros: ','C = %.3f, '%(ListaModelos[i][j][k][14]),\n",
    "                         'n = %.1f, '%(ListaModelos[i][j][k][15]),'\\u03c3 = %.2f, '%(ListaModelos[i][j][k][16]))\n",
    "                    count3 = count3 + 1\n",
    "                else:\n",
    "                    continue\n",
    "\n",
    "print('Número total de modelos que no cumplen Gradiende de Densidad < 0:           ', count1, ' de ',contador)\n",
    "print('Número total de modelos que no cumplen Gradiente de Presión radial < 0:     ', count2, ' de ',contador)\n",
    "print('Número total de modelos que no cumplen Gradiente de Presión tangencial < 0: ', count3, ' de ',contador)\n"
   ]
  },
  {
   "cell_type": "markdown",
   "metadata": {},
   "source": [
    "# <center> Strong Energy Condition\n",
    "# <center> C6"
   ]
  },
  {
   "cell_type": "code",
   "execution_count": null,
   "metadata": {},
   "outputs": [],
   "source": [
    "count = 0\n",
    "\n",
    "for i in range(len(Lista_C)):\n",
    "    \n",
    "    for j in range(len(Lista_n)):\n",
    "        \n",
    "        for k in range(len(Lista_sigma)):\n",
    "            \n",
    "            if len(ListaModelos[i][j][k]) != 0:\n",
    "            \n",
    "                if any(ListaModelos[i][j][k][8] < 0):\n",
    "                                        \n",
    "                    print('No cumple la condición de energía fuerte (SEC). Parámetros: ','C = %.3f, '%(ListaModelos[i][j][k][14]),\n",
    "                         'n = %.1f, '%(ListaModelos[i][j][k][15]),'\\u03c3 = %.2f, '%(ListaModelos[i][j][k][16]))\n",
    "                    count = count + 1\n",
    "                else:\n",
    "                    continue\n",
    "\n",
    "print('Número total de modelos que NO cumplen: ', count, ' de ',contador)"
   ]
  },
  {
   "cell_type": "markdown",
   "metadata": {},
   "source": [
    "# <center> Radial and Tangential speed of sound squared\n",
    "# <center> C7"
   ]
  },
  {
   "cell_type": "code",
   "execution_count": null,
   "metadata": {},
   "outputs": [],
   "source": [
    "count1 = 0\n",
    "count2 = 0\n",
    "\n",
    "for i in range(len(Lista_C)):\n",
    "    \n",
    "    for j in range(len(Lista_n)):\n",
    "        \n",
    "        for k in range(len(Lista_sigma)):\n",
    "            \n",
    "            if len(ListaModelos[i][j][k]) != 0:\n",
    "            \n",
    "                if any(ListaModelos[i][j][k][9] > 1):\n",
    "                    print('Velocidad del sonido > 1.            Parámetros: ','C = %.3f, '%(ListaModelos[i][j][k][14]),\n",
    "                         'n = %.1f, '%(ListaModelos[i][j][k][15]),'\\u03c3 = %.2f, '%(ListaModelos[i][j][k][16]))\n",
    "                    count1 = count1 + 1\n",
    "                else:\n",
    "                    pass\n",
    "                \n",
    "                if any(ListaModelos[i][j][k][10] > 1):                \n",
    "                    print('Velocidad del sonido tangencial > 1. Parámetros: ','C = %.3f, '%(ListaModelos[i][j][k][14]),\n",
    "                         'n = %.1f, '%(ListaModelos[i][j][k][15]),'\\u03c3 = %.2f, '%(ListaModelos[i][j][k][16]))\n",
    "                    count2 = count2 + 1\n",
    "                else:\n",
    "                    continue\n",
    "                \n",
    "print('Número total de modelos que no cumplen: ', count1, ' de ',contador)\n",
    "print('Número total de modelos que no cumplen: ', count2, ' de ',contador)"
   ]
  },
  {
   "cell_type": "markdown",
   "metadata": {},
   "source": [
    "# <center> Adiabatic index Gamma\n",
    "# <center> C8"
   ]
  },
  {
   "cell_type": "code",
   "execution_count": null,
   "metadata": {},
   "outputs": [],
   "source": [
    "count = 0\n",
    "\n",
    "for i in range(len(Lista_C)):\n",
    "    \n",
    "    for j in range(len(Lista_n)):\n",
    "        \n",
    "        for k in range(len(Lista_sigma)):\n",
    "            \n",
    "            if len(ListaModelos[i][j][k]) != 0:\n",
    "                \n",
    "                if any(ListaModelos[i][j][k][11] < 1.33333):\n",
    "                    print('Gamma < 4/3. Parámetros: ','C = %.3f, '%(ListaModelos[i][j][k][14]),\n",
    "                         'n = %.1f, '%(ListaModelos[i][j][k][15]),'\\u03c3 = %.2f, '%(ListaModelos[i][j][k][16]))\n",
    "                    count = count + 1\n",
    "                    print(ListaModelos[i][j][k][11])\n",
    "                else:\n",
    "                    continue\n",
    "                \n",
    "print('Número total de modelos que no cumplen: ', count, ' de ',contador)"
   ]
  },
  {
   "cell_type": "markdown",
   "metadata": {},
   "source": [
    "# <center> Cracking\n",
    "# <center> C9"
   ]
  },
  {
   "cell_type": "code",
   "execution_count": null,
   "metadata": {},
   "outputs": [],
   "source": [
    "count = 0\n",
    "\n",
    "for i in range(len(Lista_C)):\n",
    "    \n",
    "    for j in range(len(Lista_n)):\n",
    "        \n",
    "        for k in range(len(Lista_sigma)):\n",
    "            \n",
    "            if len(ListaModelos[i][j][k]) != 0:\n",
    "            \n",
    "                if any(np.diff(np.sign(ListaModelos[i][j][k][12][100:])) != 0):\n",
    "                    print('El modelo fractura. Parámetros: ','C = %.3f, '%(ListaModelos[i][j][k][14]),\n",
    "                         'n = %.1f, '%(ListaModelos[i][j][k][15]),'\\u03c3 = %.2f, '%(ListaModelos[i][j][k][16]))\n",
    "                    count = count + 1\n",
    "                else:\n",
    "                    continue\n",
    "                \n",
    "print('Número total de modelos que NO cumplen: ', count, ' de ',contador)"
   ]
  },
  {
   "cell_type": "markdown",
   "metadata": {},
   "source": [
    "# <center> Convective Stability\n",
    "# <center> C11"
   ]
  },
  {
   "cell_type": "code",
   "execution_count": null,
   "metadata": {},
   "outputs": [],
   "source": [
    "count = 0\n",
    "\n",
    "for i in range(len(Lista_C)):\n",
    "    \n",
    "    for j in range(len(Lista_n)):\n",
    "        \n",
    "        for k in range(len(Lista_sigma)):\n",
    "            \n",
    "            if len(ListaModelos[i][j][k]) != 0:\n",
    "            \n",
    "                if any(ListaModelos[i][j][k][13] > 0):\n",
    "                    print('Inestable ante perturbaciones convectivas. Parámetros: ','C = %.3f, '%(ListaModelos[i][j][k][14]),\n",
    "                         'n = %.1f, '%(ListaModelos[i][j][k][15]),'\\u03c3 = %.2f, '%(ListaModelos[i][j][k][16]))\n",
    "                    count = count + 1                \n",
    "                else:\n",
    "                    continue\n",
    "                \n",
    "print('Número total de modelos que NO cumplen: ', count, ' de ',contador)"
   ]
  },
  {
   "cell_type": "code",
   "execution_count": null,
   "metadata": {},
   "outputs": [],
   "source": []
  }
 ],
 "metadata": {
  "kernelspec": {
   "display_name": "Python 3",
   "language": "python",
   "name": "python3"
  },
  "language_info": {
   "codemirror_mode": {
    "name": "ipython",
    "version": 3
   },
   "file_extension": ".py",
   "mimetype": "text/x-python",
   "name": "python",
   "nbconvert_exporter": "python",
   "pygments_lexer": "ipython3",
   "version": "3.6.4"
  }
 },
 "nbformat": 4,
 "nbformat_minor": 2
}
