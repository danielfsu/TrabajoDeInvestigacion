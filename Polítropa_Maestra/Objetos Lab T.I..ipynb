{
 "cells": [
  {
   "cell_type": "code",
   "execution_count": 1,
   "metadata": {},
   "outputs": [],
   "source": [
    "import numpy as np\n",
    "import matplotlib.pyplot as plt\n",
    "import math\n",
    "from scipy import integrate\n",
    "from scipy.integrate import solve_ivp"
   ]
  },
  {
   "cell_type": "code",
   "execution_count": 2,
   "metadata": {},
   "outputs": [],
   "source": [
    "plt.rc('text', usetex = True)\n",
    "plt.rc('font', **{'family' : \"sans-serif\"})\n",
    "params = {'text.latex.preamble' : [r'\\usepackage{amsmath}']}\n",
    "plt.rcParams.update(params)\n",
    "plt.rcParams['xtick.labelsize'] = 8\n",
    "plt.rcParams['ytick.labelsize'] = 8"
   ]
  },
  {
   "cell_type": "markdown",
   "metadata": {},
   "source": [
    "# Masa total y Radio total de modelos con polítropa maestra\n",
    "\n",
    "Este código calcula la masa total ($M$), el radio total ($r_b$) y la compacidad ($\\mu_b$) de esferas anisótropas relativistas con ecuación de estado polítropa maestra.\n",
    "\n",
    "## Ecuaciones de estructura\n",
    "\n",
    "Las ecuaciones de estructura son el resultado de resolver y manipular las ecuaciones de campo de Einstein para una métrica y un tensor de energía dado. En el caso de configuraciones estáticas con simetría esférica y anisotropía en la presión, las ecuaciones de estructura consisten en\n",
    "\n",
    "\\begin{equation}\n",
    "\\label{EcEqHidro}\n",
    "P^{\\prime} = - \\left(\\rho + P \\right) \\nu^{\\prime} + \\frac{2}{r} \\left(P_{\\perp} - P \\right).\n",
    "\\end{equation}\n",
    "\n",
    "\\ref{EcEqHidro}\n",
    "\n",
    "\n",
    "\n",
    "\n",
    "\n"
   ]
  },
  {
   "cell_type": "code",
   "execution_count": 2,
   "metadata": {},
   "outputs": [],
   "source": [
    "# Definiendo sistema de ecuaciones\n",
    "def funciones(xi,y, alpha, n, h, Upsilon, varkappa):\n",
    "    psi_ , eta_, psi1_, eta1_ = y\n",
    "    dydxi = [-h*(eta_+ xi**(3)*(Upsilon*(psi_**(n+1) - varkappa**(1 + 1/n)) + alpha*(psi_**(n) - varkappa)))*(1 + Upsilon*(psi_ - (varkappa**(1 + 1/n)/psi_**(n))) + alpha*(1 - (varkappa/psi_**(n))))/xi/(xi - 2*Upsilon*(n+1)*eta_) /(1 + alpha*n/Upsilon/(n+1)/psi_) \n",
    "            ,xi**(2) * psi_**(n)\n",
    "            ,-(h/xi/(xi - 2*Upsilon*(n+1)*eta_)/(1 + alpha*n/Upsilon/(n+1)/psi_))*((eta1_ + 3*xi**(2)*(Upsilon*(psi_**(n+1) - varkappa**(1 + 1/n)) + alpha*(psi_**(n) - varkappa)) + xi**(3)*(n+1)*Upsilon*psi_**(n)*psi1_*(1 + alpha*n/Upsilon/(n+1)/psi_))*(1 + Upsilon*(psi_ - varkappa**(1 + 1/n)/psi_**(n)) + alpha*(1 - varkappa/psi_**(n))) + (eta_ + xi**(3)*(Upsilon*(psi_**(n+1) - varkappa**(1+ 1/n)) + alpha*(psi_**(n) - varkappa)))*((n+1)*Upsilon*psi1_*(1 + alpha*n/Upsilon/(n+1)/psi_) - n*(Upsilon*(psi_**(n+1) - varkappa**(1 + 1/n)) + alpha*(psi_**(n) - varkappa))*psi1_/psi_**(n+1)) + (eta_ + xi**(3)*(Upsilon*(psi_**(n+1) - varkappa**(1 + 1/n)) + alpha*(psi_**(n) - varkappa)))*(1 + Upsilon*(psi_ - varkappa**(1 + 1/n)/psi_**(n)) + alpha*(1 - varkappa/psi_**(n)))*((2*Upsilon*(n+1)*eta1_ - 1)/(xi - 2*Upsilon*(n+1)*eta_) + alpha*n*psi1_/(1 + alpha*n/Upsilon/(n+1)/psi_)/Upsilon/(n+1)/psi_**(2) - 1/xi))\n",
    "            ,2*xi*psi_**(n) + n*xi**(2)*psi_**(n-1)*psi1_] \n",
    "    return dydxi"
   ]
  },
  {
   "cell_type": "code",
   "execution_count": 4,
   "metadata": {},
   "outputs": [],
   "source": [
    "c = 2.997*10**(8)          # Velocidad de la luz en S.I.\n",
    "G = 6.673*10**(-11)        # Constante de gravitación universal en S.I.\n",
    "Msun = 1.989*10**(30)      # Masa solar en S.I."
   ]
  },
  {
   "cell_type": "code",
   "execution_count": 5,
   "metadata": {},
   "outputs": [],
   "source": [
    "C = 0.05\n",
    "h = 1 - 2*C  # Valor de C para anisotropía\n",
    "\n",
    "Lista_n = [0.8] #Índice polítropo\n",
    "\n",
    "rho_c = 1.5*10**(18)\n",
    "\n",
    "alpha = 0.0 # Constante del término lineal\n",
    "\n",
    "varkappa = 0.0 # Razón entre densidad en el borde y densidad central\n",
    "\n",
    "# Sigma = Presión central entre Densidad central\n",
    "Lista_sigma = [0.2]"
   ]
  },
  {
   "cell_type": "code",
   "execution_count": 6,
   "metadata": {
    "scrolled": false
   },
   "outputs": [
    {
     "name": "stdout",
     "output_type": "stream",
     "text": [
      "Masa Gravitacional:  1.7018377785898176 [M_sun],    Radio:  11.237804731104262  [km],  μ =  0.4475577650426109\n",
      "rho_b:  0.0 2.1544346795233424e-07\n",
      "Parámetros:  n = 0.8 , σ = 0.2\n"
     ]
    },
    {
     "name": "stderr",
     "output_type": "stream",
     "text": [
      "C:\\Users\\DANIEL\\Anaconda3\\lib\\site-packages\\ipykernel_launcher.py:4: RuntimeWarning: invalid value encountered in double_scalars\n",
      "  after removing the cwd from sys.path.\n",
      "C:\\Users\\DANIEL\\Anaconda3\\lib\\site-packages\\ipykernel_launcher.py:5: RuntimeWarning: invalid value encountered in double_scalars\n",
      "  \"\"\"\n",
      "C:\\Users\\DANIEL\\Anaconda3\\lib\\site-packages\\ipykernel_launcher.py:6: RuntimeWarning: invalid value encountered in double_scalars\n",
      "  \n",
      "C:\\Users\\DANIEL\\Anaconda3\\lib\\site-packages\\ipykernel_launcher.py:7: RuntimeWarning: invalid value encountered in double_scalars\n",
      "  import sys\n"
     ]
    }
   ],
   "source": [
    "for i in range(len(Lista_n)):\n",
    "        \n",
    "        n = Lista_n[i]\n",
    "        \n",
    "        for j in range(len(Lista_sigma)):\n",
    "            \n",
    "            sigma = Lista_sigma[j]\n",
    "    \n",
    "            Upsilon = (sigma - alpha*(1 - varkappa))/(1 - varkappa**(1 + 1/n))\n",
    "        \n",
    "            K = Upsilon*c**(2)/rho_c**(1/n)      # k**(n) en m**(3)/kg\n",
    "                \n",
    "            # Condiciones iniciales\n",
    "            Psi0 = 1.0\n",
    "            Eta0 = 0.0\n",
    "            Psi10 = 0.0\n",
    "            Eta10 = 0.0\n",
    "            \n",
    "            y0 = [Psi0,Eta0,Psi10,Eta10]\n",
    "            \n",
    "            def stop_condition(xi,y,alpha, n, h, Upsilon, varkappa):\n",
    "                return (1/sigma)*(Upsilon*(y[0]**(n+1) - varkappa**(1 + 1/n)) + alpha*(y[0]**(n) - varkappa)) - 10**-15\n",
    "            \n",
    "            stop_condition.terminal = True\n",
    "            \n",
    "            xi0 = 10**(-15)\n",
    "            ximax = 10000\n",
    "            \n",
    "            xi_span = (xi0,ximax)\n",
    "           \n",
    "            soluciones = solve_ivp(funciones,xi_span,y0,method='RK45',events=stop_condition,\n",
    "                                   args=(alpha, n, h, Upsilon, varkappa))\n",
    "            \n",
    "            Psi = soluciones.y[0]\n",
    "            Eta = soluciones.y[1]\n",
    "            Psi1 = soluciones.y[2]\n",
    "            Eta1 = soluciones.y[3]\n",
    "            xi = soluciones.t \n",
    "            \n",
    "            \n",
    "            M = (c**(2)*(n+1)/(4*np.pi)**(1/3)/G)**(3/2)*(K/c**(2))**(n/2)*sigma**((3-n)/2)*Eta[-1]/Msun  # Masa en unidades de masa solar\n",
    "                    \n",
    "            R = (c**(2)*(n+1)/4/np.pi/G)**(1/2)*(K/c**(2))**(n/2)*sigma**((1-n)/2)*xi[-1]/1000\n",
    "            \n",
    "            mr = 2*Upsilon*(n+1)*Eta/xi\n",
    "            \n",
    "            Densidad = Psi**(n)\n",
    "            \n",
    "            print('Masa Gravitacional: ', M, '[M_sun],   ', 'Radio: ', R, ' [km], ', '\\u03bc = ', mr[-1])\n",
    "            print('rho_b: ',varkappa*rho_c,Densidad[-1])\n",
    "            print('Parámetros: ', 'n = {} ,'.format(Lista_n[i]), '\\u03c3 = {}'.format(Lista_sigma[j]))"
   ]
  },
  {
   "cell_type": "code",
   "execution_count": null,
   "metadata": {},
   "outputs": [],
   "source": []
  }
 ],
 "metadata": {
  "kernelspec": {
   "display_name": "Python 3",
   "language": "python",
   "name": "python3"
  },
  "language_info": {
   "codemirror_mode": {
    "name": "ipython",
    "version": 3
   },
   "file_extension": ".py",
   "mimetype": "text/x-python",
   "name": "python",
   "nbconvert_exporter": "python",
   "pygments_lexer": "ipython3",
   "version": "3.6.4"
  }
 },
 "nbformat": 4,
 "nbformat_minor": 2
}
