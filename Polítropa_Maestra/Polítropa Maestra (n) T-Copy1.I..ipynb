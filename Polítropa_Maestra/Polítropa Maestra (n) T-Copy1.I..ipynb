{
 "cells": [
  {
   "cell_type": "markdown",
   "metadata": {},
   "source": [
    "# Condiciones de aceptabilidad de modelos con polítropa Maestra\n",
    "## Variando el índice polítropo $n$\n",
    "\n",
    "Este cuaderno muestra gráficamente, para distintos valores del índice polítropo $n$, el cumplimiento (o no) de condiciones de aceptabilidad física en esferas anisótropas relativistas con ecuación de estado polítropa maestra.\n"
   ]
  },
  {
   "cell_type": "code",
   "execution_count": 1,
   "metadata": {},
   "outputs": [],
   "source": [
    "import numpy as np\n",
    "import matplotlib.pyplot as plt\n",
    "import math\n",
    "from scipy import integrate\n",
    "from scipy.integrate import solve_ivp"
   ]
  },
  {
   "cell_type": "code",
   "execution_count": 2,
   "metadata": {},
   "outputs": [],
   "source": [
    "plt.rc('text', usetex = True)\n",
    "plt.rc('font', **{'family' : \"sans-serif\"})\n",
    "params = {'text.latex.preamble' : [r'\\usepackage{amsmath}']}\n",
    "plt.rcParams.update(params)\n",
    "plt.rcParams['xtick.labelsize'] = 8\n",
    "plt.rcParams['ytick.labelsize'] = 8"
   ]
  },
  {
   "cell_type": "markdown",
   "metadata": {},
   "source": [
    "# Modelado de objetos compactos\n",
    "\n",
    "## Ecuaciones de estructura\n",
    "\n",
    "Las ecuaciones de estructura son el resultado de manipular las ecuaciones de campo de Einstein para una métrica y un tensor de energía dado, y son las ecuaciones que hay que resolver para modelar objetos compactos. En el caso de configuraciones estáticas con simetría esférica y anisotropía en la presión, las ecuaciones de estructura consisten en\n",
    "\n",
    "\\begin{eqnarray}\n",
    "P^{\\prime} &=& - \\left(\\rho + P \\right) \\frac{m + 4 \\pi r^{3} P}{r(r - 2m)} + \\frac{2}{r} \\left(P_{\\perp} - P \\right)  \\label{EqHid} \\tag{1} \\\\\n",
    "m^{\\prime} &=& 4 \\pi r^{2} \\rho \\label{MasDif} \\tag{2}\n",
    "\\end{eqnarray}\n",
    "donde $\\rho$ es densidad de energía, $m$ es masa, $P$ es presión radial, $P_{\\perp}$ es presión tangencial y la prima denota derivada respecto a $r$.\n",
    "\n",
    "## Ecuación de Estado\n",
    "\n",
    "Una ecuación de estado (EoS por sus siglas en inglés) es un modelo matemático, entre variables de estado, que describe los procesos físicos más importantes que ocurren en un sistema termodinámico.\n",
    "\n",
    "La EoS polítropa maestra consiste en una relación tal que\n",
    "\\begin{equation}\n",
    "P = \\kappa \\rho^{1+\\frac{1}{n}} + \\alpha \\rho - \\beta \\,. \\label{PoliMaestra} \\tag{3}\n",
    "\\end{equation}\n",
    "\n",
    "Por otra parte, se supone que la anisotropía en a presión es de la forma\n",
    "\\begin{equation}\n",
    "\\Delta\\equiv P_{\\perp} - P = C r (\\rho + P) \\frac{m + 4 \\pi r^3 P}{r(r-2m)} \\,, \\label{Anisotropia} \\tag{4}\n",
    "\\end{equation}\n",
    "tal que la ecuación (1) queda como\n",
    "\\begin{equation}\n",
    "\\frac{\\mathrm{d}P}{\\mathrm{d}r} = - h \\frac{(\\rho + P)(m + 4 \\pi  r^3 P)}{r(r-2m)} \\,, \\label{EqHidCos} \\tag{5}\n",
    "\\end{equation}\n",
    "donde $h = 1 - 2C$, y $C$ cuantifica la anisotropía en el modelo.\n",
    "\n",
    "## Ecuación de Lane-Emden\n",
    "\n",
    "Las ecuaciones de estructura pueden escribirse de forma adimensional cuando son dotadas de EoS polítropas. El resultado es conocido como ecuación de Lane-Emden, dada por el cambio de variables\n",
    "\\begin{equation}\n",
    "\\Psi^{n}(\\xi) = \\frac{\\rho}{\\rho_{c}} \\ , \\ \\ \\eta \\left(\\xi \\right) = \\frac{m}{4 \\pi \\rho_c a^{3}} \\quad \\textrm{y} \\quad r = a\\xi \\,,\n",
    "\\end{equation}\n",
    "donde\n",
    "\\begin{equation}\n",
    "a^{2} = \\frac{\\Upsilon \\left(n + 1 \\right)}{4 \\pi \\rho_c} \\ , \\ \\ \\Upsilon = \\kappa \\rho_{c}^{1/n} = \\frac{\\sigma - \\alpha \\left(1 - \\varkappa \\right)}{1 - \\varkappa^{1 + \\frac{1}{n}}} \\ , \\ \\ \\sigma = \\frac{P_{c}}{\\rho_{c}} \\quad \\textrm{y} \\quad \\varkappa = \\frac{\\rho_{b}}{\\rho_{c}} \\,.\n",
    "\\end{equation}\n",
    "Los subíndices $c$ y $b$ indican que la variable es evaluada en el centro y borde de la configuración, respectivamente.\n",
    "\n",
    "De esta manera, las EoS $\\eqref{PoliMaestra}$ y $\\eqref{Anisotropia}$ adimensionales son\n",
    "\\begin{eqnarray}\n",
    "P &=& \\rho_c \\left\\{\\Upsilon \\left( \\Psi^{n+1} - \\varkappa^{1 + \\frac{1}{n}} \\right) + \\alpha \\left(\\Psi^{n} - \\varkappa \\right)\\right\\}  = \\rho_c \\mathcal{P} \\quad \\textrm{y} \\label{PAdi} \\tag{6} \\\\\n",
    "\\Delta &=& \\frac{C \\Upsilon (n+1) \\left(\\eta + \\xi^{3} \\mathcal{P} \\right) \\left(\\Psi^{n} + \\mathcal{P} \\right) \\rho_{c}}{\\xi - 2  \\Upsilon \\left( n+1 \\right) \\eta} \\,, \\label{AniAdi} \\tag{7}\n",
    "\\end{eqnarray}\n",
    "respectivamente.\n",
    "\n",
    "\n",
    "Finalmente, las ecuaciones $\\eqref{EqHidCos}$ y $\\eqref{MasDif}$, escritas en su forma adimensional, son\n",
    "\\begin{eqnarray}\n",
    "\\dot{\\Psi} &=& - \\frac{h \\left(\\eta + \\xi^{3} \\mathcal{P}\\right) \\left(1 + \\frac{\\mathcal{P}}{\\Psi^{n}}\\right)}{\\xi \\left\\{\\xi-2\\,\\Upsilon\\,\\left( n+1 \\right) \\eta\\right\\} \\left\\{1 + \\frac{\\alpha n}{\\Upsilon \\left(n+1\\right) \\Psi}\\right\\}}  \\qquad \\textrm{y} \\label{PsiPunto} \\tag{8} \\\\\n",
    "\\dot{\\eta} &=& \\xi^{2}\\Psi^{n} \\,, \\label{EtaPunto} \\tag{9}\n",
    "\\end{eqnarray}\n",
    "donde el punto indica derivada respecto de $\\xi$.\n",
    "\n",
    "Por lo tanto, el sistema de ecuaciones a integrar numéricamente está dado por $\\eqref{PsiPunto}$ y $\\eqref{EtaPunto}$, con condiciones iniciales\n",
    "\\begin{equation}\n",
    "\\Psi (\\xi = 0) = \\Psi_{c} = 1 \\,, \\quad \\eta (\\xi = 0) = \\eta_{c} = 0  \\,,\n",
    "\\end{equation}\n",
    "y con condición de frontera\n",
    "\\begin{equation}\n",
    "\\Psi (\\xi = \\xi_{b}) = 0 \\,.\n",
    "\\end{equation}"
   ]
  },
  {
   "cell_type": "code",
   "execution_count": 3,
   "metadata": {},
   "outputs": [],
   "source": [
    "# Definiendo sistema de ecuaciones: derivada de Psi y derivada de Eta en función de xi\n",
    "def funciones(xi,y, alpha, n, h, Upsilon, varkappa):\n",
    "    psi_ , eta_ = y\n",
    "    dydxi = [-h*(eta_ + xi**(3)*(Upsilon*(psi_**(n+1)-varkappa**(1+1/n)) + alpha*(psi_**(n) - varkappa)))*(1 + Upsilon*(psi_ - (varkappa**(1+1/n)/psi_**(n))) + alpha*(1 - (varkappa/psi_**(n))))/xi/(xi - 2*Upsilon*(n+1)*eta_) /(1 + alpha*n/Upsilon/(n+1)/psi_) \n",
    "            ,xi**(2)*psi_**(n)] \n",
    "    return dydxi"
   ]
  },
  {
   "cell_type": "code",
   "execution_count": 4,
   "metadata": {},
   "outputs": [],
   "source": [
    "c = 2.997*10**(8)          # Velocidad de la luz en unidades S.I.\n",
    "G = 6.673*10**(-11)        # Constante de gravitación universal en unidades S.I.\n",
    "Msun = 1.989*10**(30)      # 1 Masa solar en kilogramos"
   ]
  },
  {
   "cell_type": "markdown",
   "metadata": {},
   "source": [
    "### $Modelo\\ Genérico: M = 1.5 \\, M_{\\odot}, \\, R = 10.0 \\, km$\n",
    "\n",
    "Parámetros de entrada\n",
    "\n",
    "$n = 0.8 \\, , \\, C = 0.05 \\, , \\, \\alpha = -0.01 \\, , \\, \\varkappa = 0.2 \\, , \\, \\sigma = 0.2 \\, , \\, \\rho_c = 1.5\\times10^{18} \\, kg/m^{3}  $ "
   ]
  },
  {
   "cell_type": "code",
   "execution_count": 5,
   "metadata": {},
   "outputs": [
    {
     "name": "stdout",
     "output_type": "stream",
     "text": [
      "Valores de n: 0.5, 1.0, 1.5\n"
     ]
    }
   ],
   "source": [
    "# Se definen los parámetros (de entrada) que caracterizan a cada modelo: n, C, alpha, varkappa, sigma\n",
    "\n",
    "Lista_n = [0.5,1.0,1.5]#,2.0,2.5,3.0,3.5,4.0]        # Lista de índices polítropos n\n",
    "print('Valores de n: ',end='')                                                    \n",
    "print(*Lista_n, sep=', ')\n",
    "\n",
    "C = 0.05 # Valor del factor de anisotropía\n",
    "\n",
    "h = 1 - 2*C  \n",
    "\n",
    "alpha = -0.01 # valor del factor del término lineal\n",
    "\n",
    "varkappa = 0.2 # Razón entre densidad en el borde y densidad central\n",
    "\n",
    "sigma = 0.2 # Presión central entre densidad central"
   ]
  },
  {
   "cell_type": "code",
   "execution_count": 6,
   "metadata": {},
   "outputs": [],
   "source": [
    "ListaModelos = [] # Contenedor de las soluciones para cada índice polítropo n"
   ]
  },
  {
   "cell_type": "code",
   "execution_count": 7,
   "metadata": {},
   "outputs": [
    {
     "name": "stdout",
     "output_type": "stream",
     "text": [
      "Wall time: 62.5 ms\n"
     ]
    }
   ],
   "source": [
    "%%time\n",
    "\n",
    "for i in range(len(Lista_n)):\n",
    "    \n",
    "    n = Lista_n[i] # Índice polítropo n para cada modelo\n",
    "    \n",
    "    Parametros = [n,C,alpha,varkappa,sigma] # Parametros de cada modelo\n",
    "    \n",
    "    # Cálculo de Upsilon\n",
    "    Upsilon = (sigma - alpha*(1 - varkappa))/(1 - varkappa**(1 + 1/n)) \n",
    "        \n",
    "    # Condiciones iniciales\n",
    "    Psi0 = 1.0\n",
    "    Eta0 = 0.0\n",
    "    y0 = [Psi0,Eta0]\n",
    "    \n",
    "    # Intervalo de integración\n",
    "    xi0 = 10**(-15) # Inicio\n",
    "    ximax = 1000   # Fin, en caso de que la condición para detener la integración no se cumpla\n",
    "    xi_span = (xi0,ximax) # Espacio de integración\n",
    "\n",
    "    # Condición para detener la integración (Presión adimensional menor que 10**(-15))\n",
    "    def stop_condition(xi,y,alpha, n, h, Upsilon, varkappa):\n",
    "        return (1/sigma)*(Upsilon*(y[0]**(n+1) - varkappa**(1 + 1/n)) + alpha*(y[0]**(n) - varkappa)) - 10**-15\n",
    "    stop_condition.terminal = True\n",
    "\n",
    "    # Solución del sistema de ecuaciones utilizando la rutina \"solve_ivp\" por medio del método RK45\n",
    "    # solve_ivp(Ecuaciones a integrar, Espacio de integración, Condiciones iniciales, Método de integración,\n",
    "    #           Condición para detener la integración)\n",
    "    soluciones = solve_ivp(funciones,xi_span,y0,method='RK45',events=stop_condition,\n",
    "                           args=(alpha, n, h, Upsilon, varkappa),max_step=1/50)\n",
    "    xi = soluciones.t\n",
    "    Psi = soluciones.y[0]\n",
    "    Eta = soluciones.y[1]\n",
    "    \n",
    "    \n",
    "                             #0     #1  #2  #3\n",
    "    ListaModelos.append([Parametros,xi,Psi,Eta])"
   ]
  },
  {
   "cell_type": "code",
   "execution_count": 12,
   "metadata": {
    "scrolled": false
   },
   "outputs": [
    {
     "name": "stdout",
     "output_type": "stream",
     "text": [
      "[0.5, 0.05, -0.01, 0.2, 0.2]\n"
     ]
    }
   ],
   "source": [
    "print(ListaModelos[0][0])"
   ]
  },
  {
   "cell_type": "code",
   "execution_count": 9,
   "metadata": {},
   "outputs": [],
   "source": [
    "LineStyles = ['solid', 'dotted', 'dashed', 'dashdot', (0,(1,10)), (0,(5,10)), (0,(3,10,1,10)), (0,(3,1,1,1,1,1))]"
   ]
  },
  {
   "cell_type": "markdown",
   "metadata": {},
   "source": [
    "## * Condición C1: $\\, \\, \\frac{2m}{r} < 1$\n",
    "\n",
    "La compacidad $\\mu$ está dada por\n",
    "\\begin{equation}\n",
    "    \\mu = \\frac{2m}{r} \\equiv \\frac{2 \\sigma \\left(n+1 \\right) \\eta}{\\xi}\n",
    "\\end{equation}"
   ]
  },
  {
   "cell_type": "markdown",
   "metadata": {},
   "source": [
    "## * Condición C2: $\\,\\, \\rho \\geq 0$, $\\,\\,P \\geq 0$, $\\,\\,P_{\\perp} \\geq 0$\n",
    "\n",
    "La densidad de energía, presión radial y presión tangencial adimensionales son:\n",
    "\\begin{eqnarray}\n",
    "     \\frac{\\rho}{\\rho_{c}} &=& \\psi^{n}(\\xi) \\,, \\\\\n",
    "     \\frac{P}{P_{c}} &=& \\frac{\\Upsilon \\left(\\Psi^{n+1} - \\varkappa^{1 + \\frac{1}{n}} \\right) + \\alpha \\left(\\Psi^{n} - \\varkappa \\right)}{\\sigma} = \\frac{\\mathcal{P}}{\\sigma} \\qquad \\textrm{y} \\\\\n",
    "     \\frac{P_{\\perp}}{P_{c}} &=& \\frac{1}{\\sigma} \\left\\{\\frac{C \\Upsilon (n+1) \\left(\\eta + \\xi^{3} \\mathcal{P} \\right) \\left(\\Psi^{n} + \\mathcal{P} \\right)}{\\xi - 2 \\Upsilon (n+1) \\eta} + \\mathcal{P} \\right\\} \\,,\n",
    "\\end{eqnarray}\n",
    "respectivamente."
   ]
  },
  {
   "cell_type": "markdown",
   "metadata": {},
   "source": [
    "## * Condición C3: $\\,\\, \\rho^{\\prime} \\leq 0$, $\\,\\,P^{\\prime} \\leq 0$, $\\,\\,P^{\\prime}_{\\perp} \\leq 0$\n",
    "\n",
    "Los gradientes de energía, de presión radial y de presión tangencial adimensionales son:\n",
    "\\begin{eqnarray}\n",
    "    \\frac{\\dot{\\rho}}{\\rho_{c}} &=& n \\Psi^{n-1} \\dot{\\Psi} \\,, \\\\\n",
    "    \\frac{\\dot{P}}{P_{c}} &=& \\frac{\\dot{\\mathcal{P}}}{\\sigma} = \\frac{\\Psi^{n-1} \\left\\{\\Upsilon (n+1) \\Psi + \\alpha n                                                                                                                                                                                                                                                                                                           \\right\\} \\dot{\\Psi}}{\\sigma}    \\qquad \\textrm{y} \\\\\n",
    "    \\frac{\\dot{P}_{\\perp}}{P_{c}} &=& \\frac{C \\Upsilon (n+1)}{\\sigma\\left\\{\\xi - 2 \\Upsilon (n+1) \\eta\\right\\}} \\Bigg\\{\\left(n \\Psi^{n-1} \\dot{\\Psi} + \\dot{\\mathcal{P}} \\right) \\left(\\eta + \\xi^{3} \\mathcal{P} \\right) +  \\left(\\Psi^{n} + \\mathcal{P} \\right) \\left(\\dot{\\eta} + 3 \\xi^{2} \\mathcal{P} + \\xi^{3} \\dot{\\mathcal{P}} \\right) \\nonumber - \\; \\frac{ \\left(\\Psi^{n} + \\mathcal{P} \\right) \\left(\\eta + \\xi^{3} \\mathcal{P} \\right) \\left\\{1 - 2 \\Upsilon (n+1) \\dot{\\eta} \\right\\}}{\\left\\{\\xi - 2 \\Upsilon (n+1) \\eta \\right\\}^{2}} \\Bigg\\} + \\frac{\\dot{\\mathcal{P}}}{\\sigma} \n",
    "\\end{eqnarray}\n",
    "respectivamente."
   ]
  },
  {
   "cell_type": "markdown",
   "metadata": {},
   "source": [
    "## * Condición C4: $\\,\\, \\rho - P - 2 P_{\\perp} \\geq 0$\n",
    "\n",
    "La condición sobre la traza del tensor energía-momento es\n",
    "\\begin{equation}\n",
    "    \\Psi^{n} - 3 \\mathcal{P} - \\frac{2 C \\Upsilon (n+1) \\left(\\eta + \\xi^{3} \\mathcal{P} \\right) \\left(\\Psi^{n} + \\mathcal{P} \\right)}{\\xi - 2 \\Upsilon (n+1) \\eta} \\geq 0\n",
    "\\end{equation}"
   ]
  },
  {
   "cell_type": "markdown",
   "metadata": {},
   "source": [
    "## * Condición C5: $\\,\\, 0 < v_{s}^{2} \\leq 1 \\,\\, $ y $\\,\\,0 < v_{s \\perp}^{2} \\leq 1$\n",
    "\n",
    "Las velocidades del sonido radial y tangencial, adimensionales, son\n",
    "\\begin{eqnarray}\n",
    "    v^{2}_{s} &=& \\Upsilon \\left(\\frac{n+1}{n} \\right) \\Psi + \\alpha \\qquad \\textrm{y} \\\\\n",
    "    v^{2}_{s \\perp} &=& \\frac{C \\Upsilon \\left(n+1\\right)}{\\xi-2\\Upsilon\\left(n+1\\right)\\eta} \\left\\{ \\left(1+v^{2}_{s}  \\right) \\left(\\eta + \\xi^{3}\\mathcal{P} \\right)  + \\xi^{2}\\Psi \\left(\\Psi^{n} + \\mathcal{P}\\right) \\left( \\frac{\\Psi^{n} + 3 \\mathcal{P}}{n \\Psi^{n} \\dot{\\Psi}} + \\frac{v^{2}_{s} \\xi}{\\Psi} \\right) - \\frac{\\Psi \\left(\\Psi^{n} + \\mathcal{P}\\right)\\left(\\eta+\\xi^{3}\\mathcal{P}\\right) \\left\\{1-2\\Upsilon\\left(n+1\\right)\\xi^{2}\\Psi^{n}\\right\\}}{n \\Psi^{n} \\dot{\\Psi} \\left\\{\\xi -2\\Upsilon \\left(n+1\\right)\\eta \\right\\}} \\right\\} + v^{2}_{s} \\,,\n",
    "\\end{eqnarray}\n",
    "respectivamente."
   ]
  },
  {
   "cell_type": "markdown",
   "metadata": {},
   "source": [
    "## * Condición C6: $\\,\\, \\Gamma \\leq \\frac{4}{3}$\n",
    "\n",
    "El índice adiabático es\n",
    "\\begin{equation}\n",
    "    \\Gamma = \\frac{\\rho + P}{P} v^{2}_{s} \\equiv \\frac{\\Psi^{n} + \\mathcal{P}}{\\mathcal{P}} \\left\\{\\Upsilon \\left(\\frac{n+1}{n} \\right) \\Psi + \\alpha \\right\\}\n",
    "\\end{equation}"
   ]
  },
  {
   "cell_type": "markdown",
   "metadata": {},
   "source": [
    "## * Condición C7: $\\,\\, \\frac{\\mathrm{d}M(\\rho_{c})}{\\mathrm{d}\\rho_{c}} > 0$\n",
    "\n",
    "Esta condición requiere de la variación del parámetro $\\sigma$, por lo tanto se ha realizado aparte en [Condición C7](https://github.com/danielfsu/TrabajoDeInvestigacion/blob/main/Pol%C3%ADtropa_Maestra/Pol%C3%ADtropa%20Maestra%20-%20H-Z-N%20-%20Gr%C3%A1fica.ipynb)"
   ]
  },
  {
   "cell_type": "code",
   "execution_count": 13,
   "metadata": {},
   "outputs": [
    {
     "data": {
      "image/png": "[encoded data removed]",
      "text/plain": [
       "<matplotlib.figure.Figure at 0x2123a1a0320>"
      ]
     },
     "metadata": {
      "needs_background": "light"
     },
     "output_type": "display_data"
    }
   ],
   "source": [
    "fig, ax1 = plt.subplots(nrows=1, ncols=1, figsize=(3,3),dpi=150)\n",
    "\n",
    "for i in range(len(Lista_n)):\n",
    "    \n",
    "    n = ListaModelos[i][0][0]\n",
    "    Upsilon = (sigma - alpha*(1 - varkappa))/(1 - varkappa**(1 + 1/n))\n",
    "    xi = ListaModelos[i][1]\n",
    "    xiNorm = xi/xi[-1]\n",
    "    Eta = ListaModelos[i][3]\n",
    "    \n",
    "    compacidad = 2*Upsilon*(n+1)*Eta/xi \n",
    "    \n",
    "    ax1.plot(xiNorm,compacidad,linestyle=LineStyles[i],label=r'$n = %.1f$'%(Lista_n[i]))\n",
    "\n",
    "ax1.set_xbound(0.0,1.0)\n",
    "ax1.set_ybound(0.0,1.2)\n",
    "ax1.set_xlabel(r'$\\bar{\\xi}$',fontsize=12)\n",
    "ax1.xaxis.set_label_coords(0.5, -0.05)\n",
    "ax1.set_title(r'$\\frac{2m}{r}$', x=0.5,y=0.85,fontsize=12)\n",
    "ax1.legend(ncol=2, loc=(0.325,0.5),fontsize=7,edgecolor='k',fancybox=False)\n",
    "ax1.spines['right'].set_color('none')\n",
    "ax1.spines['top'].set_color('none')\n",
    "\n",
    "ax1.axhline(y=1.0,color='m',linestyle=(0,(5,1)),linewidth=0.5)\n",
    "\n",
    "plt.show()"
   ]
  },
  {
   "cell_type": "code",
   "execution_count": null,
   "metadata": {},
   "outputs": [],
   "source": [
    "    Psi1 = -h*(Eta+ xi**(3)*(Upsilon*(Psi**(n+1) - varkappa**(1 + 1/n)) + alpha*(Psi**(n) - varkappa)))*(1 + Upsilon*(Psi - (varkappa**(1 + 1/n)/Psi**(n))) + alpha*(1 - (varkappa/Psi**(n))))/xi/(xi - 2*Upsilon*(n+1)*Eta) /(1 + alpha*n/Upsilon/(n+1)/Psi)\n",
    "    \n",
    "    Eta1 = xi**(2) * Psi**(n)\n",
    "    \n",
    "    # Xi normalizada\n",
    "    xiNorm = xi/xi[-1]\n",
    "    \n",
    "    mr = 2*Upsilon*(n+1)*Eta/xi                                           # 2*G*m/c**(2)/r\n",
    "    \n",
    "    Densidad = Psi**(n)\n",
    "    \n",
    "    varP = Upsilon*(Psi**(n+1) - varkappa**(1 + 1/n)) + alpha*(Psi**(n) - varkappa)\n",
    "    \n",
    "    # Presión entre presión central\n",
    "    PNorm = (1/sigma)*(Upsilon*(Psi**(n+1) - varkappa**(1 + 1/n)) + alpha*(Psi**(n) - varkappa))\n",
    "    \n",
    "    # Presión tangencial\n",
    "    PTNorm = C*Upsilon*(n+1)*(Eta + xi**(3)*(Upsilon*(Psi**(n+1) - varkappa**(1 + 1/n)) + alpha*(Psi**(n) - varkappa)))*(Psi**(n) + (Upsilon*(Psi**(n+1) - varkappa**(1 + 1/n)) + alpha*(Psi**(n) - varkappa)))/sigma/(xi - 2*Upsilon*(n+1)*Eta) + (Upsilon*(Psi**(n+1) - varkappa**(1 + 1/n)) + alpha*(Psi**(n) - varkappa))/sigma\n",
    "    \n",
    "    # Gradiente de densidad\n",
    "    Dprima = n*Psi**(n-1)*Psi1   \n",
    "    \n",
    "    # Gradiente de presión radial\n",
    "    Pprima = (1/sigma)*Upsilon*(n+1)*Psi**(n)*Psi1*(1 + alpha*n/(n+1)/Upsilon/Psi)\n",
    "    \n",
    "    # Gradiente de presión tangencial\n",
    "    Ptprima = (1/sigma)*(C*Upsilon*(n+1)*(((Eta1 + 3*xi**(2)*(Upsilon*(Psi**(n+1) - varkappa**(1 + 1/n)) + alpha*(Psi**(n) - varkappa)) + xi**(3)*Upsilon*(n+1)*Psi**(n)*Psi1*(1 + alpha*n/Upsilon/(n+1)/Psi))*(Psi**(n) + Upsilon*(Psi**(n+1) - varkappa**(1 + 1/n)) + alpha*(Psi**(n) - varkappa)) + (Eta + xi**(3)*(Upsilon*(Psi**(n+1) - varkappa**(1 + 1/n)) + alpha*(Psi**(n) - varkappa)))*(n*Psi**(n-1)*Psi1 + Upsilon*(n+1)*Psi**(n)*Psi1*(1 + alpha*n/Upsilon/(n+1)/Psi)))/(xi - 2*Upsilon*(n+1)*Eta) - (Eta + xi**(3)*(Upsilon*(Psi**(n+1) - varkappa**(1 + 1/n)) + alpha*(Psi**(n) - varkappa)))*(Psi**(n) + Upsilon*(Psi**(n+1) - varkappa**(1 + 1/n)) + alpha*(Psi**(n) - varkappa))*(1 - 2*Upsilon*(n+1)*Eta1)/(xi - 2*Upsilon*(n+1)*Eta)**(2)) + Upsilon*(n+1)*Psi**(n)*Psi1*(1 + alpha*n/Upsilon/(n+1)/Psi))\n",
    "    \n",
    "    # Condición de energía fuerte (SEC)     \n",
    "    SEC = (1/sigma)*Densidad - PNorm - 2*PTNorm\n",
    "    \n",
    "    # Velocidad del sonido radial al cuadrado\n",
    "    v2r = Upsilon*(1 + 1/n)*Psi + alpha # Velocidad del sonido al cuadrado\n",
    "    \n",
    "    # Diferencia de las velocidades del sonido al cuadrado\n",
    "    vDelta2 = (C*Upsilon*(n+1)/(xi - 2*Upsilon*(n+1)*Eta))*((1 + Upsilon*(n+1)*Psi/n + alpha)*(Eta + xi**(3)*varP) + (Psi**(n) + varP)*xi**(2)*Psi*((Psi**(n) + 3*varP)/n/Psi**(n)/Psi1 + (xi/Psi)*((Upsilon*(n+1)*Psi)/n + alpha)) - Psi*(Psi**(n) + varP)*(Eta + xi**(3)*varP)*(1 - 2*Upsilon*(n+1)*xi**(2)*Psi**(n))/(n*Psi**(n)*Psi1*(xi - 2*Upsilon*(n+1)*Eta)))\n",
    "    \n",
    "    # Velocidad del sonido tangencial al cuadrado\n",
    "    v2t = vDelta2 + v2r\n",
    "    \n",
    "    # Índice adiabático Gamma\n",
    "    Gamma = v2r*(Densidad + sigma*PNorm)/PNorm/sigma\n",
    "    \n",
    "    # Segunda derivada de Psi\n",
    "    Psi11 = -(h/xi/(xi - 2*Upsilon*(n+1)*Eta)/(1 + alpha*n/Upsilon/(n+1)/Psi))*((Eta1 + 3*xi**(2)*(Upsilon*(Psi**(n+1) - varkappa**(1 + 1/n)) + alpha*(Psi**(n) - varkappa)) + xi**(3)*(n+1)*Upsilon*Psi**(n)*Psi1*(1 + alpha*n/Upsilon/(n+1)/Psi))*(1 + Upsilon*(Psi - varkappa**(1 + 1/n)/Psi**(n)) + alpha*(1 - varkappa/Psi**(n))) + (Eta + xi**(3)*(Upsilon*(Psi**(n+1) - varkappa**(1+ 1/n)) + alpha*(Psi**(n) - varkappa)))*((n+1)*Upsilon*Psi1*(1 + alpha*n/Upsilon/(n+1)/Psi) - n*(Upsilon*(Psi**(n+1) - varkappa**(1 + 1/n)) + alpha*(Psi**(n) - varkappa))*Psi1/Psi**(n+1)) + (Eta + xi**(3)*(Upsilon*(Psi**(n+1) - varkappa**(1 + 1/n)) + alpha*(Psi**(n) - varkappa)))*(1 + Upsilon*(Psi - varkappa**(1 + 1/n)/Psi**(n)) + alpha*(1 - varkappa/Psi**(n)))*((2*Upsilon*(n+1)*Eta1 - 1)/(xi - 2*Upsilon*(n+1)*Eta) + alpha*n*Psi1/(1 + alpha*n/Upsilon/(n+1)/Psi)/Upsilon/(n+1)/Psi**(2) - 1/xi))    \n",
    "    \n",
    "    # Fracturas: deltaR1: Densidad, deltaR2: Masa, deltaR3: Presión, delta R4: Gradiente de presión   \n",
    "    deltaR1 = h*Upsilon*(n+1)*(Eta + xi**(3)*(Upsilon*(Psi**(n+1) - varkappa**(1 + 1/n)) + alpha*(Psi**(n) - varkappa)))/xi/(xi - 2*Upsilon*(n+1)*Eta)\n",
    "    deltaR2 = h*Upsilon*(n+1)*xi**(2)*Psi*(Psi**(n) + (Upsilon*(Psi**(n+1) - varkappa**(1 + 1/n)) + alpha*(Psi**(n) - varkappa)))*(1 + 2*Upsilon*(n+1)*(Upsilon*(Psi**(n+1) - varkappa**(1 + 1/n)) + alpha*(Psi**(n) - varkappa))*xi**(2))/n/Psi1/(xi - 2*Upsilon*(n+1)*Eta)**(2)\n",
    "    deltaR3 = h*Upsilon*(n+1)*(Eta + xi**(3)*(Psi**(n) + 2*(Upsilon*(Psi**(n+1) - varkappa**(1+1/n)) + alpha*(Psi**(n) - varkappa))))*(Upsilon*(n+1)*Psi/n + alpha)/(xi*(xi - 2*Upsilon*(n+1)*Eta))\n",
    "    deltaR4 = Upsilon*(n+1)*(n*Psi1**(2) + Psi*Psi11)/n/Psi1 + alpha*((n-1)*Psi1**(2) + Psi*Psi11)/Psi/Psi1\n",
    "    \n",
    "    deltaRMaster = deltaR1 + deltaR2 + deltaR3 + deltaR4\n",
    "     \n",
    "    # Flotabilidad\n",
    "    Psin11 = n*(Psi**(n-1)*Psi11 + (n-1)*Psi**(n-2)*Psi1**(2))"
   ]
  },
  {
   "cell_type": "code",
   "execution_count": null,
   "metadata": {},
   "outputs": [],
   "source": [
    "LineStyles = ['solid', 'dotted', 'dashed', 'dashdot', (0,(1,10)), (0,(5,10)), (0,(3,10,1,10)), (0,(3,1,1,1,1,1))]"
   ]
  },
  {
   "cell_type": "code",
   "execution_count": null,
   "metadata": {},
   "outputs": [],
   "source": [
    "fig, ax1 = plt.subplots(nrows=1, ncols=1, figsize=(3,3),dpi=150)\n",
    "\n",
    "for i in range(len(Lista_n)):\n",
    "    \n",
    "    ax1.plot(ListaModelos[i][0],ListaModelos[i][1],linestyle=LineStyles[i],label=r'$n = %.1f$'%(Lista_n[i]))\n",
    "\n",
    "ax1.set_xbound(0.0,1.0)\n",
    "ax1.set_ybound(0.0,1.2)\n",
    "ax1.set_xlabel(r'$\\bar{\\xi}$',fontsize=12)\n",
    "ax1.xaxis.set_label_coords(0.5, -0.05)\n",
    "ax1.set_title(r'$\\frac{2m}{r}$', x=0.5,y=0.85,fontsize=12)\n",
    "ax1.legend(ncol=2, loc=(0.325,0.5),fontsize=7,edgecolor='k',fancybox=False)\n",
    "ax1.spines['right'].set_color('none')\n",
    "ax1.spines['top'].set_color('none')\n",
    "\n",
    "ax1.axhline(y=1.0,color='m',linestyle=(0,(5,1)),linewidth=0.5)\n",
    "\n",
    "plt.show()"
   ]
  },
  {
   "cell_type": "code",
   "execution_count": null,
   "metadata": {},
   "outputs": [],
   "source": [
    "fig, ax1 = plt.subplots(nrows=1, ncols=1, figsize=(3,3),dpi=150)\n",
    "\n",
    "for i in range(len(Lista_n)):\n",
    "    \n",
    "    ax1.plot(ListaModelos[i][0],ListaModelos[i][2],linestyle=LineStyles[i],label=r'$n = %.1f$'%(Lista_n[i]))\n",
    "\n",
    "ax1.set_xbound(0.0,1.0)\n",
    "ax1.set_ybound(0.0,1.1)\n",
    "ax1.set_xlabel(r'$\\bar{\\xi}$',fontsize=12)\n",
    "ax1.xaxis.set_label_coords(0.5, -0.05)\n",
    "ax1.set_title(r'$\\frac{\\rho}{\\rho_{c}}$', x=0.5,y=0.85,fontsize=12)\n",
    "# ax1.legend(ncol=2, loc=(0.325,0.5),fontsize=7,edgecolor='k',fancybox=False)\n",
    "ax1.spines['right'].set_color('none')\n",
    "ax1.spines['top'].set_color('none')\n",
    "\n",
    "plt.show()"
   ]
  },
  {
   "cell_type": "code",
   "execution_count": null,
   "metadata": {},
   "outputs": [],
   "source": [
    "fig, ax1 = plt.subplots(nrows=1, ncols=1, figsize=(3,3),dpi=150)\n",
    "\n",
    "for i in range(len(Lista_n)):\n",
    "    \n",
    "    ax1.plot(ListaModelos[i][0],ListaModelos[i][3],linestyle=LineStyles[i],label=r'$n = %.1f$'%(Lista_n[i]))\n",
    "\n",
    "ax1.set_xbound(0.0,1.0)\n",
    "ax1.set_ybound(0.0,1.1)\n",
    "ax1.set_xlabel(r'$\\bar{\\xi}$',fontsize=12)\n",
    "ax1.xaxis.set_label_coords(0.5, -0.05)\n",
    "ax1.set_title(r'$\\frac{P}{P_{c}}$', x=0.5,y=0.85,fontsize=12)\n",
    "# ax1.legend(ncol=2, loc=(0.325,0.5),fontsize=7,edgecolor='k',fancybox=False)\n",
    "ax1.spines['right'].set_color('none')\n",
    "ax1.spines['top'].set_color('none')\n",
    "\n",
    "plt.show()"
   ]
  },
  {
   "cell_type": "code",
   "execution_count": null,
   "metadata": {},
   "outputs": [],
   "source": [
    "fig, ax1 = plt.subplots(nrows=1, ncols=1, figsize=(3,3),dpi=150)\n",
    "\n",
    "for i in range(len(Lista_n)):\n",
    "    \n",
    "    ax1.plot(ListaModelos[i][0],ListaModelos[i][4],linestyle=LineStyles[i],label=r'$n = %.1f$'%(Lista_n[i]))\n",
    "    \n",
    "ax1.set_xbound(0.0,1.0)\n",
    "ax1.set_ybound(0.0,1.1)\n",
    "ax1.set_xlabel(r'$\\bar{\\xi}$',fontsize=12)\n",
    "ax1.xaxis.set_label_coords(0.5, -0.05)\n",
    "ax1.set_title(r'$\\frac{P_{\\perp}}{P_{c}}$', x=0.5,y=0.85,fontsize=12)\n",
    "# ax1.legend(ncol=1, loc=3,fontsize=7,edgecolor='k',fancybox=False)\n",
    "ax1.spines['right'].set_color('none')\n",
    "ax1.spines['top'].set_color('none')\n",
    "\n",
    "plt.show()"
   ]
  },
  {
   "cell_type": "code",
   "execution_count": null,
   "metadata": {},
   "outputs": [],
   "source": [
    "fig, ax1 = plt.subplots(nrows=1, ncols=1, figsize=(3,3),dpi=150)\n",
    "\n",
    "for i in range(len(Lista_n)):\n",
    "    \n",
    "    ax1.plot(ListaModelos[i][0],ListaModelos[i][5],linestyle=LineStyles[i],label=r'$n = %.1f$'%(Lista_n[i]))\n",
    "    \n",
    "ax1.set_xbound(0.0,1.0)\n",
    "ax1.set_ybound(-1.25,0.15)\n",
    "ax1.set_xlabel(r'$\\bar{\\xi}$',fontsize=12)\n",
    "ax1.xaxis.set_label_coords(0.5, -0.05)\n",
    "ax1.set_title(r'$\\frac{\\dot{\\rho}}{\\rho_{c}}$', x=0.5,y=0.9,fontsize=12)\n",
    "# ax1.legend(ncol=1, loc=3,fontsize=7,edgecolor='k',fancybox=False)\n",
    "ax1.spines['right'].set_color('none')\n",
    "ax1.spines['top'].set_color('none')\n",
    "\n",
    "ax1.axhline(y=0.0,color='m',linestyle=(0,(5,1)),linewidth=0.5)\n",
    "\n",
    "plt.show()"
   ]
  },
  {
   "cell_type": "code",
   "execution_count": null,
   "metadata": {},
   "outputs": [],
   "source": [
    "fig, ax1 = plt.subplots(nrows=1, ncols=1, figsize=(3,3),dpi=150)\n",
    "\n",
    "for i in range(len(Lista_n)):\n",
    "    \n",
    "    ax1.plot(ListaModelos[i][0],ListaModelos[i][6],linestyle=LineStyles[i],label=r'$n = %.1f$'%(Lista_n[i]))\n",
    "    \n",
    "ax1.set_xbound(0.0,1.0)\n",
    "ax1.set_ybound(-1.25,0.15)\n",
    "ax1.set_xlabel(r'$\\bar{\\xi}$',fontsize=12)\n",
    "ax1.xaxis.set_label_coords(0.5, -0.05)\n",
    "ax1.set_title(r'$\\frac{\\dot{P}}{P_{c}}$', x=0.5,y=0.9,fontsize=12)\n",
    "# ax1.legend(ncol=1, loc=3,fontsize=7,edgecolor='k',fancybox=False)\n",
    "ax1.spines['right'].set_color('none')\n",
    "ax1.spines['top'].set_color('none')\n",
    "\n",
    "ax1.axhline(y=0.0,color='m',linestyle=(0,(5,1)),linewidth=0.5)\n",
    "\n",
    "plt.show()"
   ]
  },
  {
   "cell_type": "code",
   "execution_count": null,
   "metadata": {},
   "outputs": [],
   "source": [
    "fig, ax1 = plt.subplots(nrows=1, ncols=1, figsize=(3,3),dpi=150)\n",
    "\n",
    "for i in range(len(Lista_n)):\n",
    "    \n",
    "    ax1.plot(ListaModelos[i][0],ListaModelos[i][7],linestyle=LineStyles[i],label=r'$n = %.1f$'%(Lista_n[i]))\n",
    "    \n",
    "ax1.set_xbound(0.0,1.0)\n",
    "ax1.set_ybound(-1.25,0.15)\n",
    "ax1.set_xlabel(r'$\\bar{\\xi}$',fontsize=12)\n",
    "ax1.xaxis.set_label_coords(0.5, -0.05)\n",
    "ax1.set_title(r'$\\frac{\\dot{P}_{\\perp}}{P_{c}}$', x=0.5,y=0.9,fontsize=12)\n",
    "# ax1.legend(ncol=2, loc=4,fontsize=7,edgecolor='k',fancybox=False)\n",
    "ax1.spines['right'].set_color('none')\n",
    "ax1.spines['top'].set_color('none')\n",
    "ax1.axhline(y=0,color='m',linestyle=(0,(5,1)),linewidth=0.5)\n",
    "\n",
    "plt.show()"
   ]
  },
  {
   "cell_type": "code",
   "execution_count": null,
   "metadata": {},
   "outputs": [],
   "source": [
    "fig, ax1 = plt.subplots(nrows=1,ncols=1,figsize=(3,3),dpi=150)\n",
    "\n",
    "for i in range(len(Lista_n)):\n",
    "    \n",
    "    ax1.plot(ListaModelos[i][0],ListaModelos[i][8],linestyle=LineStyles[i],label=r'$n = %.1f$'%(Lista_n[i]))\n",
    "\n",
    "ax1.set_xbound(0.0,1.0)\n",
    "ax1.set_ybound(-0.25,3.0)\n",
    "ax1.set_xlabel(r'$\\bar{\\xi}$',fontsize=12)\n",
    "ax1.xaxis.set_label_coords(0.5, -0.05)\n",
    "ax1.set_title(r'$(\\rho - P - 2P_{\\perp})/P_{c}$', x=0.5,y=0.9,fontsize=9)\n",
    "ax1.legend(ncol=2, loc=(0.025,0.125),fontsize=7,edgecolor='k',fancybox=False)\n",
    "ax1.spines['right'].set_color('none')\n",
    "ax1.spines['top'].set_color('none')\n",
    "ax1.axhline(y=0,color='m',linestyle=(0,(5,1)),linewidth=0.5)\n",
    "\n",
    "plt.show()"
   ]
  },
  {
   "cell_type": "code",
   "execution_count": null,
   "metadata": {},
   "outputs": [],
   "source": [
    "fig, (ax1, ax2) = plt.subplots(nrows=1, ncols=2, sharey=True, figsize=(6,3),dpi=150)\n",
    "fig.suptitle(r'$\\sigma = {}$'.format(sigma),x=0.5125,y=0.95,fontsize=10)\n",
    "\n",
    "for i in range(len(Lista_n)):\n",
    "    \n",
    "    ax1.plot(ListaModelos[i][0],ListaModelos[i][9],linestyle=LineStyles[i],label=r'$n = %.1f$'%(Lista_n[i]))\n",
    "    ax2.plot(ListaModelos[i][0],ListaModelos[i][10],linestyle=LineStyles[i],label=r'$n = %.1f$'%(Lista_n[i]))\n",
    "\n",
    "ax1.set_xbound(0.0,1.0)\n",
    "ax1.set_ybound(0.0,1.1)\n",
    "ax2.set_xbound(0.0,1.0)\n",
    "ax1.set_xlabel(r'$\\bar{\\xi}$',fontsize=12)\n",
    "ax2.set_xlabel(r'$\\bar{\\xi}$',fontsize=12)\n",
    "ax1.xaxis.set_label_coords(0.5, -0.05)\n",
    "ax2.xaxis.set_label_coords(0.5, -0.05)\n",
    "ax1.set_title(r'$v^{2}_{s}$', x=0.5,y=0.9,fontsize=9)\n",
    "ax2.set_title(r'$v^{2}_{s \\perp}$', x=0.5,y=0.9,fontsize=9)\n",
    "ax1.legend(ncol=4, loc=(0.2,-0.35),edgecolor='k',fancybox=False,fontsize=9)\n",
    "ax1.spines['right'].set_color('none')\n",
    "ax1.spines['top'].set_color('none')\n",
    "ax2.spines['right'].set_color('none')\n",
    "ax2.spines['top'].set_color('none')\n",
    "\n",
    "ax1.axhline(y=1.0,color='m',linestyle=(0,(5,1)),linewidth=0.5)\n",
    "ax2.axhline(y=1.0,color='m',linestyle=(0,(5,1)),linewidth=0.5)\n",
    "\n",
    "plt.show()"
   ]
  },
  {
   "cell_type": "code",
   "execution_count": null,
   "metadata": {},
   "outputs": [],
   "source": [
    "fig, ax1 = plt.subplots(nrows=1,ncols=1,figsize=(3,3),dpi=150)\n",
    "\n",
    "for i in range(len(Lista_n)):\n",
    "    \n",
    "    ax1.plot(ListaModelos[i][0],ListaModelos[i][11],linestyle=LineStyles[i],label=r'$n = %.1f$'%(Lista_n[i]))\n",
    "\n",
    "ax1.set_xbound(0.0,1.0)\n",
    "ax1.set_ybound(0.0,4.5)\n",
    "ax1.set_xlabel(r'$\\bar{\\xi}$',fontsize=12)\n",
    "ax1.xaxis.set_label_coords(0.5, -0.05)\n",
    "ax1.set_title(r'$\\Gamma$', x=0.5,y=0.9,fontsize=9)\n",
    "ax1.legend(ncol=2, loc=4,fontsize=7,edgecolor='k',fancybox=False)\n",
    "ax1.spines['right'].set_color('none')\n",
    "ax1.spines['top'].set_color('none')\n",
    "ax1.axhline(y=4/3,color='m',linestyle=(0,(5,1)),linewidth=0.5)\n",
    "\n",
    "plt.show()"
   ]
  },
  {
   "cell_type": "code",
   "execution_count": null,
   "metadata": {},
   "outputs": [],
   "source": [
    "fig, ax1 = plt.subplots(nrows=1, ncols=1, sharey=True, figsize=(3,3),dpi=150)\n",
    "\n",
    "for i in range(len(Lista_n)):\n",
    "    \n",
    "    ax1.plot(ListaModelos[i][0],ListaModelos[i][12],linestyle=LineStyles[i],label=r'$n = %.1f$'%(Lista_n[i]))\n",
    "    \n",
    "ax1.set_xbound(0.0,1.0)\n",
    "ax1.set_ybound(-2.5,0.4)\n",
    "ax1.set_xlabel(r'$\\bar{\\xi}$',fontsize=12)\n",
    "ax1.xaxis.set_label_coords(0.5, -0.05)\n",
    "ax1.set_title(r'$\\bar{\\mathcal{R}}$', x=0.5,y=0.9,fontsize=9)\n",
    "ax1.legend(ncol=1, loc=4,fontsize=7,edgecolor='k',fancybox=False)\n",
    "ax1.spines['right'].set_color('none')\n",
    "ax1.spines['top'].set_color('none')\n",
    "ax1.axhline(y=0,color='m',linestyle=(0,(5,1)),linewidth=0.5)\n",
    "\n",
    "\n",
    "plt.show()"
   ]
  },
  {
   "cell_type": "code",
   "execution_count": null,
   "metadata": {},
   "outputs": [],
   "source": [
    "fig, ax1 = plt.subplots(nrows=1, ncols=1, figsize=(3,3),dpi=150)\n",
    "\n",
    "for i in range(len(Lista_n)):\n",
    "    \n",
    "    ax1.plot(ListaModelos[i][0],ListaModelos[i][13]/abs(ListaModelos[i][13][1]),linestyle=LineStyles[i],label=r'$n = %.1f$'%(Lista_n[i]))\n",
    "    \n",
    "ax1.set_xbound(0.0,1.0)\n",
    "ax1.set_ybound(-3.3,1.1)\n",
    "ax1.set_xlabel(r'$\\bar{\\xi}$',fontsize=12)\n",
    "ax1.xaxis.set_label_coords(0.5, -0.05)\n",
    "ax1.set_title(r'$\\frac{\\rho^{\\prime \\prime}}{|\\rho^{\\prime \\prime}_{c}|}$', x=0.5,y=0.85,fontsize=12)\n",
    "ax1.legend(ncol=2, loc=3,fontsize=7,edgecolor='k',fancybox=False)\n",
    "ax1.spines['right'].set_color('none')\n",
    "ax1.spines['top'].set_color('none')\n",
    "ax1.axhline(y=0,color='m',linestyle=(0,(5,1)),linewidth=0.5)\n",
    "\n",
    "\n",
    "plt.show()"
   ]
  },
  {
   "cell_type": "code",
   "execution_count": null,
   "metadata": {},
   "outputs": [],
   "source": []
  }
 ],
 "metadata": {
  "kernelspec": {
   "display_name": "Python 3",
   "language": "python",
   "name": "python3"
  },
  "language_info": {
   "codemirror_mode": {
    "name": "ipython",
    "version": 3
   },
   "file_extension": ".py",
   "mimetype": "text/x-python",
   "name": "python",
   "nbconvert_exporter": "python",
   "pygments_lexer": "ipython3",
   "version": "3.6.4"
  }
 },
 "nbformat": 4,
 "nbformat_minor": 2
}
