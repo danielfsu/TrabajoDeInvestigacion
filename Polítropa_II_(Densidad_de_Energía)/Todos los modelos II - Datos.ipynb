{
 "cells": [
  {
   "cell_type": "code",
   "execution_count": 1,
   "metadata": {},
   "outputs": [],
   "source": [
    "import numpy as np\n",
    "import matplotlib.pyplot as plt\n",
    "import math\n",
    "from scipy import integrate\n",
    "from scipy.integrate import solve_ivp"
   ]
  },
  {
   "cell_type": "code",
   "execution_count": 2,
   "metadata": {},
   "outputs": [],
   "source": [
    "plt.rc('text', usetex = True)\n",
    "plt.rc('font', **{'family' : \"sans-serif\"})\n",
    "params = {'text.latex.preamble' : [r'\\usepackage{amsmath}']}\n",
    "plt.rcParams.update(params)\n",
    "plt.rcParams['xtick.labelsize'] = 8\n",
    "plt.rcParams['ytick.labelsize'] = 8"
   ]
  },
  {
   "cell_type": "code",
   "execution_count": 3,
   "metadata": {},
   "outputs": [],
   "source": [
    "# Sistema de ecuaciones\n",
    "\n",
    "def funciones(xi, y, sigma, n, h):\n",
    "    psi_, eta_, psi1_, eta1_ = y\n",
    "    dydxi = [h*(eta_ + sigma*xi**(3)*psi_**(n+1))*(1 + sigma*psi_)/xi/(2*(n+1)*sigma*eta_ - xi) \n",
    "           ,xi**(2)*psi_**(n) \n",
    "           ,h*(((eta1_ + 3*sigma*xi**(2)*psi_**(n+1) + sigma*xi**(3)*(n+1)*psi_**(n)*psi1_)*(sigma*psi_ + 1)/xi/(2*(n+1)*sigma*eta_ - xi)) + (sigma*psi1_*(eta_ + sigma*xi**(3)*psi_**(n+1))/xi/(2*(n+1)*sigma*eta_ - xi)) - ((1 + sigma*psi_)*(eta_ + sigma*xi**(3)*psi_**(n+1))/xi**(2)/(2*(n+1)*sigma*eta_ - xi)) - ((1 + sigma*psi_)*(eta_ + sigma*xi**(3)*psi_**(n+1))*(2*(n+1)*sigma*eta1_ - 1)/xi/((2*(n+1)*sigma*eta_ - xi)**(2))))           \n",
    "           ,2*xi*psi_**(n) + xi**(2)*n*psi_**(n-1)*psi1_]\n",
    "    return dydxi"
   ]
  },
  {
   "cell_type": "code",
   "execution_count": 4,
   "metadata": {},
   "outputs": [],
   "source": [
    "c = 2.997*10**(8)               # Velocidad de la luz en S.I.\n",
    "G = 6.673*10**(-11)             # Constante Gravitación Universal en S.I. \n",
    "Msun = 1.989*10**(30)           # 1 Masa solar en S.I."
   ]
  },
  {
   "cell_type": "code",
   "execution_count": 5,
   "metadata": {},
   "outputs": [
    {
     "name": "stdout",
     "output_type": "stream",
     "text": [
      "C interval: 0.0, 0.03125, 0.0625, 0.09375, 0.125, 0.15625, 0.1875, 0.21875, 0.25\n",
      "n interval: 0.5, 0.999999, 1.5, 2.0, 2.5, 3.0, 3.5, 4.0\n",
      "σ interval: 0.05, 0.1, 0.15000000000000002, 0.2, 0.25, 0.3, 0.35000000000000003, 0.4, 0.45, 0.5, 0.55, 0.6000000000000001, 0.6500000000000001, 0.7000000000000001, 0.7500000000000001, 0.8\n",
      "Number of models:  1152\n"
     ]
    }
   ],
   "source": [
    "                                               ## Lista de parámetros ##\n",
    "\n",
    "# C\n",
    "C_inicial = 0                    # C inicial            \n",
    "C_final =  1/4                   # C final\n",
    "Paso_C = 1/32                    # Diferencia entre valores consecutivos\n",
    "Num_C = round((Paso_C + C_final - C_inicial)/Paso_C)  # Número de valores\n",
    "Lista_C = np.linspace(C_inicial,C_final,Num_C)        # Lista con valores desde C inicial hasta C final\n",
    "print('C interval: ',end='')\n",
    "print(*Lista_C, sep=', ')\n",
    "\n",
    "# n \n",
    "n_inicial = 0.5          # n inicial \n",
    "n_final = 4.0            # n final\n",
    "Paso_n = 0.5             # Diferencia entre valores consecutivos\n",
    "Num_n = round((Paso_n + n_final - n_inicial)/Paso_n)  # Número de valores\n",
    "Lista_n = np.linspace(n_inicial,n_final,Num_n)        # Lista con valores desde n inical hasta n final\n",
    "Lista_n = [0.5,0.999999,1.5,2.0,2.5,3.0,3.5,4.0]\n",
    "print('n interval: ',end='')                                                    \n",
    "print(*Lista_n, sep=', ')\n",
    "\n",
    "# Sigma = razón entre Presión central y Densidad central\n",
    "sigma_inicial = 0.05             # sigma inicial             \n",
    "sigma_final = 0.8                # sigma final\n",
    "Paso_sigma = 0.05                # Diferencia entre valores consecutivos\n",
    "Num_sigma = round((Paso_sigma + sigma_final - sigma_inicial)/Paso_sigma)  # Número de valores\n",
    "Lista_sigma = np.linspace(sigma_inicial,sigma_final,Num_sigma)            # Lista con valores desde sigma inical hasta sigma final\n",
    "print('\\u03c3 interval: ',end='')\n",
    "print(*Lista_sigma, sep=', ')\n",
    "\n",
    "Number_of_models = len(Lista_C)*len(Lista_n)*len(Lista_sigma)\n",
    "print('Number of models: ', Number_of_models)\n",
    "\n",
    "rho_c = 2.5*10**(18)               # Densidad central"
   ]
  },
  {
   "cell_type": "code",
   "execution_count": 6,
   "metadata": {},
   "outputs": [],
   "source": [
    "ListaModelos = []                                        # Container for all models \n",
    "\n",
    "for i in range(len(Lista_C)):\n",
    "    \n",
    "    ListaModelos.append([])                              # Container for C\n",
    "    \n",
    "    for j in range(len(Lista_n)):\n",
    "        \n",
    "        ListaModelos[i].append([])                       # Container for n"
   ]
  },
  {
   "cell_type": "code",
   "execution_count": 7,
   "metadata": {},
   "outputs": [
    {
     "name": "stderr",
     "output_type": "stream",
     "text": [
      "C:\\Users\\DANIEL\\Anaconda3\\lib\\site-packages\\ipykernel_launcher.py:5: RuntimeWarning: invalid value encountered in double_scalars\n",
      "  \"\"\"\n",
      "C:\\Users\\DANIEL\\Anaconda3\\lib\\site-packages\\ipykernel_launcher.py:6: RuntimeWarning: invalid value encountered in double_scalars\n",
      "  \n",
      "C:\\Users\\DANIEL\\Anaconda3\\lib\\site-packages\\ipykernel_launcher.py:7: RuntimeWarning: invalid value encountered in double_scalars\n",
      "  import sys\n",
      "C:\\Users\\DANIEL\\Anaconda3\\lib\\site-packages\\ipykernel_launcher.py:8: RuntimeWarning: invalid value encountered in double_scalars\n",
      "  \n",
      "C:\\Users\\DANIEL\\Anaconda3\\lib\\site-packages\\ipykernel_launcher.py:83: RuntimeWarning: divide by zero encountered in true_divide\n",
      "C:\\Users\\DANIEL\\Anaconda3\\lib\\site-packages\\ipykernel_launcher.py:85: RuntimeWarning: divide by zero encountered in true_divide\n",
      "C:\\Users\\DANIEL\\Anaconda3\\lib\\site-packages\\ipykernel_launcher.py:86: RuntimeWarning: invalid value encountered in add\n"
     ]
    },
    {
     "ename": "KeyboardInterrupt",
     "evalue": "",
     "output_type": "error",
     "traceback": [
      "\u001b[1;31m---------------------------------------------------------------------------\u001b[0m",
      "\u001b[1;31mKeyboardInterrupt\u001b[0m                         Traceback (most recent call last)",
      "\u001b[1;32m<timed exec>\u001b[0m in \u001b[0;36m<module>\u001b[1;34m()\u001b[0m\n",
      "\u001b[1;32m~\\Anaconda3\\lib\\site-packages\\scipy\\integrate\\_ivp\\ivp.py\u001b[0m in \u001b[0;36msolve_ivp\u001b[1;34m(fun, t_span, y0, method, t_eval, dense_output, events, vectorized, args, **options)\u001b[0m\n\u001b[0;32m    575\u001b[0m     \u001b[0mstatus\u001b[0m \u001b[1;33m=\u001b[0m \u001b[1;32mNone\u001b[0m\u001b[1;33m\u001b[0m\u001b[0m\n\u001b[0;32m    576\u001b[0m     \u001b[1;32mwhile\u001b[0m \u001b[0mstatus\u001b[0m \u001b[1;32mis\u001b[0m \u001b[1;32mNone\u001b[0m\u001b[1;33m:\u001b[0m\u001b[1;33m\u001b[0m\u001b[0m\n\u001b[1;32m--> 577\u001b[1;33m         \u001b[0mmessage\u001b[0m \u001b[1;33m=\u001b[0m \u001b[0msolver\u001b[0m\u001b[1;33m.\u001b[0m\u001b[0mstep\u001b[0m\u001b[1;33m(\u001b[0m\u001b[1;33m)\u001b[0m\u001b[1;33m\u001b[0m\u001b[0m\n\u001b[0m\u001b[0;32m    578\u001b[0m \u001b[1;33m\u001b[0m\u001b[0m\n\u001b[0;32m    579\u001b[0m         \u001b[1;32mif\u001b[0m \u001b[0msolver\u001b[0m\u001b[1;33m.\u001b[0m\u001b[0mstatus\u001b[0m \u001b[1;33m==\u001b[0m \u001b[1;34m'finished'\u001b[0m\u001b[1;33m:\u001b[0m\u001b[1;33m\u001b[0m\u001b[0m\n",
      "\u001b[1;32m~\\Anaconda3\\lib\\site-packages\\scipy\\integrate\\_ivp\\base.py\u001b[0m in \u001b[0;36mstep\u001b[1;34m(self)\u001b[0m\n\u001b[0;32m    180\u001b[0m         \u001b[1;32melse\u001b[0m\u001b[1;33m:\u001b[0m\u001b[1;33m\u001b[0m\u001b[0m\n\u001b[0;32m    181\u001b[0m             \u001b[0mt\u001b[0m \u001b[1;33m=\u001b[0m \u001b[0mself\u001b[0m\u001b[1;33m.\u001b[0m\u001b[0mt\u001b[0m\u001b[1;33m\u001b[0m\u001b[0m\n\u001b[1;32m--> 182\u001b[1;33m             \u001b[0msuccess\u001b[0m\u001b[1;33m,\u001b[0m \u001b[0mmessage\u001b[0m \u001b[1;33m=\u001b[0m \u001b[0mself\u001b[0m\u001b[1;33m.\u001b[0m\u001b[0m_step_impl\u001b[0m\u001b[1;33m(\u001b[0m\u001b[1;33m)\u001b[0m\u001b[1;33m\u001b[0m\u001b[0m\n\u001b[0m\u001b[0;32m    183\u001b[0m \u001b[1;33m\u001b[0m\u001b[0m\n\u001b[0;32m    184\u001b[0m             \u001b[1;32mif\u001b[0m \u001b[1;32mnot\u001b[0m \u001b[0msuccess\u001b[0m\u001b[1;33m:\u001b[0m\u001b[1;33m\u001b[0m\u001b[0m\n",
      "\u001b[1;32m~\\Anaconda3\\lib\\site-packages\\scipy\\integrate\\_ivp\\rk.py\u001b[0m in \u001b[0;36m_step_impl\u001b[1;34m(self)\u001b[0m\n\u001b[0;32m    144\u001b[0m \u001b[1;33m\u001b[0m\u001b[0m\n\u001b[0;32m    145\u001b[0m             y_new, f_new = rk_step(self.fun, t, y, self.f, h, self.A,\n\u001b[1;32m--> 146\u001b[1;33m                                    self.B, self.C, self.K)\n\u001b[0m\u001b[0;32m    147\u001b[0m             \u001b[0mscale\u001b[0m \u001b[1;33m=\u001b[0m \u001b[0matol\u001b[0m \u001b[1;33m+\u001b[0m \u001b[0mnp\u001b[0m\u001b[1;33m.\u001b[0m\u001b[0mmaximum\u001b[0m\u001b[1;33m(\u001b[0m\u001b[0mnp\u001b[0m\u001b[1;33m.\u001b[0m\u001b[0mabs\u001b[0m\u001b[1;33m(\u001b[0m\u001b[0my\u001b[0m\u001b[1;33m)\u001b[0m\u001b[1;33m,\u001b[0m \u001b[0mnp\u001b[0m\u001b[1;33m.\u001b[0m\u001b[0mabs\u001b[0m\u001b[1;33m(\u001b[0m\u001b[0my_new\u001b[0m\u001b[1;33m)\u001b[0m\u001b[1;33m)\u001b[0m \u001b[1;33m*\u001b[0m \u001b[0mrtol\u001b[0m\u001b[1;33m\u001b[0m\u001b[0m\n\u001b[0;32m    148\u001b[0m             \u001b[0merror_norm\u001b[0m \u001b[1;33m=\u001b[0m \u001b[0mself\u001b[0m\u001b[1;33m.\u001b[0m\u001b[0m_estimate_error_norm\u001b[0m\u001b[1;33m(\u001b[0m\u001b[0mself\u001b[0m\u001b[1;33m.\u001b[0m\u001b[0mK\u001b[0m\u001b[1;33m,\u001b[0m \u001b[0mh\u001b[0m\u001b[1;33m,\u001b[0m \u001b[0mscale\u001b[0m\u001b[1;33m)\u001b[0m\u001b[1;33m\u001b[0m\u001b[0m\n",
      "\u001b[1;32m~\\Anaconda3\\lib\\site-packages\\scipy\\integrate\\_ivp\\rk.py\u001b[0m in \u001b[0;36mrk_step\u001b[1;34m(fun, t, y, f, h, A, B, C, K)\u001b[0m\n\u001b[0;32m     63\u001b[0m     \u001b[1;32mfor\u001b[0m \u001b[0ms\u001b[0m\u001b[1;33m,\u001b[0m \u001b[1;33m(\u001b[0m\u001b[0ma\u001b[0m\u001b[1;33m,\u001b[0m \u001b[0mc\u001b[0m\u001b[1;33m)\u001b[0m \u001b[1;32min\u001b[0m \u001b[0menumerate\u001b[0m\u001b[1;33m(\u001b[0m\u001b[0mzip\u001b[0m\u001b[1;33m(\u001b[0m\u001b[0mA\u001b[0m\u001b[1;33m[\u001b[0m\u001b[1;36m1\u001b[0m\u001b[1;33m:\u001b[0m\u001b[1;33m]\u001b[0m\u001b[1;33m,\u001b[0m \u001b[0mC\u001b[0m\u001b[1;33m[\u001b[0m\u001b[1;36m1\u001b[0m\u001b[1;33m:\u001b[0m\u001b[1;33m]\u001b[0m\u001b[1;33m)\u001b[0m\u001b[1;33m,\u001b[0m \u001b[0mstart\u001b[0m\u001b[1;33m=\u001b[0m\u001b[1;36m1\u001b[0m\u001b[1;33m)\u001b[0m\u001b[1;33m:\u001b[0m\u001b[1;33m\u001b[0m\u001b[0m\n\u001b[0;32m     64\u001b[0m         \u001b[0mdy\u001b[0m \u001b[1;33m=\u001b[0m \u001b[0mnp\u001b[0m\u001b[1;33m.\u001b[0m\u001b[0mdot\u001b[0m\u001b[1;33m(\u001b[0m\u001b[0mK\u001b[0m\u001b[1;33m[\u001b[0m\u001b[1;33m:\u001b[0m\u001b[0ms\u001b[0m\u001b[1;33m]\u001b[0m\u001b[1;33m.\u001b[0m\u001b[0mT\u001b[0m\u001b[1;33m,\u001b[0m \u001b[0ma\u001b[0m\u001b[1;33m[\u001b[0m\u001b[1;33m:\u001b[0m\u001b[0ms\u001b[0m\u001b[1;33m]\u001b[0m\u001b[1;33m)\u001b[0m \u001b[1;33m*\u001b[0m \u001b[0mh\u001b[0m\u001b[1;33m\u001b[0m\u001b[0m\n\u001b[1;32m---> 65\u001b[1;33m         \u001b[0mK\u001b[0m\u001b[1;33m[\u001b[0m\u001b[0ms\u001b[0m\u001b[1;33m]\u001b[0m \u001b[1;33m=\u001b[0m \u001b[0mfun\u001b[0m\u001b[1;33m(\u001b[0m\u001b[0mt\u001b[0m \u001b[1;33m+\u001b[0m \u001b[0mc\u001b[0m \u001b[1;33m*\u001b[0m \u001b[0mh\u001b[0m\u001b[1;33m,\u001b[0m \u001b[0my\u001b[0m \u001b[1;33m+\u001b[0m \u001b[0mdy\u001b[0m\u001b[1;33m)\u001b[0m\u001b[1;33m\u001b[0m\u001b[0m\n\u001b[0m\u001b[0;32m     66\u001b[0m \u001b[1;33m\u001b[0m\u001b[0m\n\u001b[0;32m     67\u001b[0m     \u001b[0my_new\u001b[0m \u001b[1;33m=\u001b[0m \u001b[0my\u001b[0m \u001b[1;33m+\u001b[0m \u001b[0mh\u001b[0m \u001b[1;33m*\u001b[0m \u001b[0mnp\u001b[0m\u001b[1;33m.\u001b[0m\u001b[0mdot\u001b[0m\u001b[1;33m(\u001b[0m\u001b[0mK\u001b[0m\u001b[1;33m[\u001b[0m\u001b[1;33m:\u001b[0m\u001b[1;33m-\u001b[0m\u001b[1;36m1\u001b[0m\u001b[1;33m]\u001b[0m\u001b[1;33m.\u001b[0m\u001b[0mT\u001b[0m\u001b[1;33m,\u001b[0m \u001b[0mB\u001b[0m\u001b[1;33m)\u001b[0m\u001b[1;33m\u001b[0m\u001b[0m\n",
      "\u001b[1;31mKeyboardInterrupt\u001b[0m: "
     ]
    }
   ],
   "source": [
    "%%time\n",
    "\n",
    "for i in range(len(Lista_C)):\n",
    "    \n",
    "    C = Lista_C[i]\n",
    "    h = 1 - 2*C\n",
    "    \n",
    "    for j in range(len(Lista_n)):\n",
    "        \n",
    "        n = Lista_n[j]\n",
    "        \n",
    "        for k in range(len(Lista_sigma)):\n",
    "            \n",
    "            sigma = Lista_sigma[k]\n",
    "                    \n",
    "            K = sigma*c**(2)/rho_c**(1/n)      # k**(n) en m**(3)/kg\n",
    "                     \n",
    "            # Condiciones iniciales\n",
    "            Psi0 = 1.0\n",
    "            Eta0 = 0.0\n",
    "            Psi10 = 0.0\n",
    "            Eta10 = 0.0\n",
    "            \n",
    "            y0 = [Psi0,Eta0,Psi10,Eta10]\n",
    "            \n",
    "            def stop_condition(xi,y,sigma,n,h):\n",
    "                return y[0] - 10**-15\n",
    "            \n",
    "            stop_condition.terminal = True\n",
    "            \n",
    "            xi0 = 10**(-15)\n",
    "            ximax = 10000\n",
    "    \n",
    "            xi_span = (xi0,ximax)\n",
    "        \n",
    "            soluciones = solve_ivp(funciones,xi_span,y0,method='RK45',events=stop_condition,\n",
    "                                   args=(sigma,n,h),max_step=1/50)\n",
    "        \n",
    "            \n",
    "            Psi = soluciones.y[0]\n",
    "            Eta = soluciones.y[1]\n",
    "            Psi1 = soluciones.y[2]\n",
    "            Eta1 = soluciones.y[3]\n",
    "            xi = soluciones.t \n",
    "                \n",
    "            #########################################################################################################\n",
    "            \n",
    "            xiNorm = xi/xi[-1]                                       # xi normalized\n",
    "            \n",
    "            m = (c**(2)*sigma*(n+1)/(4*np.pi*rho_c)**(1/3)/G)**(3/2)*Eta/Msun   # Masa en unidades de masa solar\n",
    "            r = (c**(2)*sigma*(n+1)/4/np.pi/G/rho_c)**(1/2)*xi/1000             # Radio en kilómetros\n",
    "            mr = 2*sigma*(n+1)*Eta/xi                                           # 2*G*m/c**(2)/r\n",
    "            \n",
    "            Densidad = Psi**(n)                                      # Density\n",
    "            \n",
    "            Dprima = n*Psi**(n-1)*Psi1                               # Density gradient\n",
    "            \n",
    "            # Pressure divided by central pressure\n",
    "            PNorm = Psi**(n+1)\n",
    "            \n",
    "            # Tangential pressure\n",
    "            PTNorm = (C*(n+1)*(Eta + sigma*Psi**(n+1)*xi**(3))/(xi - 2*Eta*sigma*(n+1)))*(Psi**(n) + sigma*Psi**(n+1)) + Psi**(n+1)\n",
    "            \n",
    "                        \n",
    "            Pprima = (n+1)*Psi**(n)*Psi1\n",
    "            \n",
    "            # Tangential pressure gradient\n",
    "            Ptprima = C*(n+1)*((Eta1 + 3*sigma*xi**(2)*Psi**(n+1) + sigma*(n+1)*xi**(3)*Psi**(n)*Psi1)*(Psi**(n) + sigma*Psi**(n+1))/(xi - 2*Eta*(n+1)*sigma) + (Eta + sigma*xi**(3)*Psi**(n+1))*(n*Psi**(n-1)*Psi1 + sigma*(n+1)*Psi**(n)*Psi1)/(xi - 2*Eta*(n+1)*sigma) - (Eta + sigma*xi**(3)*Psi**(n+1))*(Psi**(n) + sigma*Psi**(n+1))*(1 - 2*Eta1*(n+1)*sigma)/(xi - 2*Eta*(n+1)*sigma)**(2)) + (n+1)*Psi**(n)*Psi1\n",
    "            \n",
    "            SEC = (1/sigma)*Densidad - PNorm - 2*PTNorm     # Strong energy condition (SEC)   \n",
    "            \n",
    "            v2r =  sigma*(1 + 1/n)*Psi                      # Sound speed squared\n",
    "            \n",
    "            # Tangential sound speed squared\n",
    "            v2t = sigma*(1 + 1/n)*Psi +  C*sigma*(n+1)*(Eta + sigma*Psi**(n+1)*xi**(3))/(xi - 2*Eta*sigma*(n+1))\n",
    "            \n",
    "            Gamma = v2r*(Densidad + sigma*PNorm)/PNorm/sigma\n",
    "            \n",
    "            # Second derivative of Psi\n",
    "            Psi11 = h*(((Eta1 + 3*sigma*xi**(2)*Psi**(n+1) + sigma*xi**(3)*(n+1)*Psi**(n)*Psi1)*(sigma*Psi + 1)/xi/(2*(n+1)*sigma*Eta - xi)) + (sigma*Psi1*(Eta + sigma*xi**(3)*Psi**(n+1))/xi/(2*(n+1)*sigma*Eta - xi)) - ((1 + sigma*Psi)*(Eta + sigma*xi**(3)*Psi**(n+1))/xi**(2)/(2*(n+1)*sigma*Eta - xi)) - ((1 + sigma*Psi)*(Eta + sigma*xi**(3)*Psi**(n+1))*(2*(n+1)*sigma*Eta1 - 1)/xi/((2*(n+1)*sigma*Eta - xi)**(2))))\n",
    "            \n",
    "            # Cracking: deltaR1: Density, deltaR2: Mass, deltaR3: Pressure, delta R4: Pressure gradient   \n",
    "            deltaR1 = h*((n+1) * sigma * (Eta + xi**(3) * sigma * Psi**(n+1)) / xi / (xi - 2 * sigma * n * Eta - 2 * sigma * Eta))\n",
    "            deltaR2 = h*(Psi**(n+1) * xi**(2) * sigma * (n+1) * (1 + sigma * Psi) * (1 + 2 * xi**(2) * sigma * sigma * (n+1) * Psi**(n+1)) / n / Psi1 / ((xi - 2 * Eta * sigma * n - 2 * Eta * sigma)**(2)))\n",
    "            deltaR3 = h*(sigma * (n+1)**(2) * sigma * Psi * (Eta + xi**(3) * Psi**(n) + 2 * sigma * xi**(3) * Psi**(n+1)) / n / xi / (xi - 2 * sigma * n * Eta - 2 * sigma * Eta))\n",
    "            deltaR4 = sigma * (n+1) * (n * Psi1**(2) + Psi * Psi11) / n / Psi1\n",
    "            deltaRPolitropa = deltaR1 + deltaR2 + deltaR3 + deltaR4\n",
    "            \n",
    "            # Buoyancy\n",
    "            Psin11 = n*(Psi**(n-1)*Psi11 + (n-1)*Psi**(n-2)*Psi1**(2))\n",
    "            \n",
    "            M = (c**(2)*(n+1)/(4*np.pi)**(1/3)/G)**(3/2)*(k/c**(2))**(n/2)*sigma**((3-n)/2)*Eta[-1]/Msun  # Masa en unidades de masa solar\n",
    "            \n",
    "            R = (c**(2)*(n+1)/4/np.pi/G)**(1/2)*(k/c**(2))**(n/2)*sigma**((1-n)/2)*xi[-1]/1000         # Radio en kilómetros\n",
    "            \n",
    "            ##########################################################################################################\n",
    "            \n",
    "                                         #0    #1     #2       #3     #4      #5      #6      #7                       \n",
    "            ListaModelos[i][j].append([xiNorm, mr, Densidad, PNorm, PTNorm, Dprima, Pprima, Ptprima,\n",
    "                                        #8  #9   #10   #11          #12         #13\n",
    "                                       SEC, v2r, v2t, Gamma, deltaRPolitropa, Psin11])"
   ]
  },
  {
   "cell_type": "markdown",
   "metadata": {},
   "source": [
    "# <center> 2m/r < 1\n",
    "# <center> C1, C2 and C3"
   ]
  },
  {
   "cell_type": "code",
   "execution_count": 8,
   "metadata": {},
   "outputs": [
    {
     "ename": "IndexError",
     "evalue": "list index out of range",
     "output_type": "error",
     "traceback": [
      "\u001b[1;31m---------------------------------------------------------------------------\u001b[0m",
      "\u001b[1;31mIndexError\u001b[0m                                Traceback (most recent call last)",
      "\u001b[1;32m<ipython-input-8-521674f03471>\u001b[0m in \u001b[0;36m<module>\u001b[1;34m()\u001b[0m\n\u001b[0;32m      7\u001b[0m         \u001b[1;32mfor\u001b[0m \u001b[0mk\u001b[0m \u001b[1;32min\u001b[0m \u001b[0mrange\u001b[0m\u001b[1;33m(\u001b[0m\u001b[0mlen\u001b[0m\u001b[1;33m(\u001b[0m\u001b[0mLista_sigma\u001b[0m\u001b[1;33m)\u001b[0m\u001b[1;33m)\u001b[0m\u001b[1;33m:\u001b[0m\u001b[1;33m\u001b[0m\u001b[0m\n\u001b[0;32m      8\u001b[0m \u001b[1;33m\u001b[0m\u001b[0m\n\u001b[1;32m----> 9\u001b[1;33m             \u001b[1;32mif\u001b[0m \u001b[0many\u001b[0m\u001b[1;33m(\u001b[0m\u001b[0mListaModelos\u001b[0m\u001b[1;33m[\u001b[0m\u001b[0mi\u001b[0m\u001b[1;33m]\u001b[0m\u001b[1;33m[\u001b[0m\u001b[0mj\u001b[0m\u001b[1;33m]\u001b[0m\u001b[1;33m[\u001b[0m\u001b[0mk\u001b[0m\u001b[1;33m]\u001b[0m\u001b[1;33m[\u001b[0m\u001b[1;36m1\u001b[0m\u001b[1;33m]\u001b[0m \u001b[1;33m>=\u001b[0m \u001b[1;36m1\u001b[0m\u001b[1;33m)\u001b[0m\u001b[1;33m:\u001b[0m\u001b[1;33m\u001b[0m\u001b[0m\n\u001b[0m\u001b[0;32m     10\u001b[0m \u001b[1;33m\u001b[0m\u001b[0m\n\u001b[0;32m     11\u001b[0m                 print('2m/r > 1. Parámetros: ','C = %.3f, '%(Lista_C[i]),\n",
      "\u001b[1;31mIndexError\u001b[0m: list index out of range"
     ]
    }
   ],
   "source": [
    "count = 0\n",
    "\n",
    "for i in range(len(Lista_C)):\n",
    "    \n",
    "    for j in range(len(Lista_n)):\n",
    "        \n",
    "        for k in range(len(Lista_sigma)):\n",
    "            \n",
    "            if any(ListaModelos[i][j][k][1] >= 1):\n",
    "                \n",
    "                print('2m/r > 1. Parámetros: ','C = %.3f, '%(Lista_C[i]),\n",
    "                     'n = %.1f, '%(Lista_n[j]),'\\u03c3 = %.2f, '%(Lista_sigma[k]))\n",
    "                count = count + 1\n",
    "                \n",
    "            else:\n",
    "                continue\n",
    "                \n",
    "print('Número total de modelos que no cumplen 2m/r < 1:           ', count, ' de ', Number_of_models)\n"
   ]
  },
  {
   "cell_type": "markdown",
   "metadata": {},
   "source": [
    "# <center> Density, Radial Pressure and Tangential Pressure   > 0\n",
    "# <center> C4"
   ]
  },
  {
   "cell_type": "code",
   "execution_count": null,
   "metadata": {},
   "outputs": [],
   "source": [
    "count1 = 0\n",
    "count2 = 0\n",
    "count3 = 0\n",
    "\n",
    "for i in range(len(Lista_C)):\n",
    "    \n",
    "    for j in range(len(Lista_n)):\n",
    "        \n",
    "        for k in range(len(Lista_sigma)):\n",
    "            \n",
    "            if any(ListaModelos[i][j][k][2] < 0):\n",
    "                \n",
    "                print('Densidad < 0. Parámetros: ','C = %.3f, '%(Lista_C[i]),\n",
    "                     'n = %.1f, '%(Lista_n[j]),'\\u03c3 = %.2f, '%(Lista_sigma[k]))\n",
    "                count1 = count1 + 1\n",
    "            else:\n",
    "                pass\n",
    "            \n",
    "            if any(ListaModelos[i][j][k][3] < 0):\n",
    "                \n",
    "                print('Presión radial < 0. Parámetros: ','C = %.3f, '%(Lista_C[i]),\n",
    "                     'n = %.1f, '%(Lista_n[j]),'\\u03c3 = %.2f, '%(Lista_sigma[k]))\n",
    "                count2 = count2 + 1\n",
    "            else:\n",
    "                pass\n",
    "            \n",
    "            if any(ListaModelos[i][j][k][4] < 0):\n",
    "                \n",
    "                print('Presión tangencial < 0. Parámetros: ','C = %.3f, '%(Lista_C[i]),\n",
    "                     'n = %.1f, '%(Lista_n[j]),'\\u03c3 = %.2f, '%(Lista_sigma[k]))\n",
    "                count3 = count3 + 1\n",
    "            else:\n",
    "                continue\n",
    "                \n",
    "print('Número total de modelos que no cumplen Densidad > 0:           ', count1, ' de ', Number_of_models)\n",
    "print('Número total de modelos que no cumplen Presión radial > 0:     ', count2, ' de ', Number_of_models)\n",
    "print('Número total de modelos que no cumplen Presión tangencial > 0: ', count3, ' de ', Number_of_models)"
   ]
  },
  {
   "cell_type": "markdown",
   "metadata": {},
   "source": [
    "# <center> Density gradient, Radial Pressure gradient and Tangetial Pressure gradient  < 0\n",
    "# <center> C5"
   ]
  },
  {
   "cell_type": "code",
   "execution_count": null,
   "metadata": {},
   "outputs": [],
   "source": [
    "count1 = 0\n",
    "count2 = 0\n",
    "count3 = 0\n",
    "\n",
    "for i in range(len(Lista_C)):\n",
    "    \n",
    "    for j in range(len(Lista_n)):\n",
    "        \n",
    "        for k in range(len(Lista_sigma)):\n",
    "            \n",
    "            if any(ListaModelos[i][j][k][5][:] > 0):\n",
    "                \n",
    "                print('Gradiente de densidad > 0. Parámetros: ','C = %.3f, '%(Lista_C[i]),\n",
    "                     'n = %.1f, '%(Lista_n[j]),'\\u03c3 = %.2f, '%(Lista_sigma[k]))\n",
    "                count1 = count1 + 1\n",
    "            else:\n",
    "                pass\n",
    "            \n",
    "            if any(ListaModelos[i][j][k][6][:] > 0):\n",
    "                \n",
    "                print('Gradiente de presión > 0. Parámetros: ','C = %.3f, '%(Lista_C[i]),\n",
    "                     'n = %.1f, '%(Lista_n[j]),'\\u03c3 = %.2f, '%(Lista_sigma[k]))\n",
    "                count2 = count2 + 1\n",
    "            else:\n",
    "                pass\n",
    "            \n",
    "            if any(ListaModelos[i][j][k][7][round(len(ListaModelos[i][j][k][7])*0.1):] > 0):\n",
    "                \n",
    "                print('Gradiente de presión tangencial > 0. Parámetros: ','C = %.3f, '%(Lista_C[i]),\n",
    "                     'n = %.1f, '%(Lista_n[j]),'\\u03c3 = %.2f, '%(Lista_sigma[k]))\n",
    "                count3 = count3 + 1\n",
    "            else:\n",
    "                continue\n",
    "\n",
    "print('Número total de modelos que no cumplen Gradiende de Densidad < 0:           ', count1, ' de ',Number_of_models)\n",
    "print('Número total de modelos que no cumplen Gradiente de Presión radial < 0:     ', count2, ' de ',Number_of_models)\n",
    "print('Número total de modelos que no cumplen Gradiente de Presión tangencial < 0: ', count3, ' de ',Number_of_models)"
   ]
  },
  {
   "cell_type": "markdown",
   "metadata": {},
   "source": [
    "# <center> Strong Energy Condition\n",
    "# <center> C6"
   ]
  },
  {
   "cell_type": "code",
   "execution_count": null,
   "metadata": {},
   "outputs": [],
   "source": [
    "count = 0\n",
    "\n",
    "for i in range(len(Lista_C)):\n",
    "    \n",
    "    for j in range(len(Lista_n)):\n",
    "        \n",
    "        for k in range(len(Lista_sigma)):\n",
    "            \n",
    "            if any(ListaModelos[i][j][k][8] < 0):\n",
    "                \n",
    "                print('No cumple la condición de energía fuerte (SEC). Parámetros: ','C = %.3f, '%(Lista_C[i]),\n",
    "                     'n = %.1f, '%(Lista_n[j]),'\\u03c3 = %.2f, '%(Lista_sigma[k]))\n",
    "                count = count + 1\n",
    "            else:\n",
    "                continue\n",
    "\n",
    "print('Número total de modelos que no cumplen: ', count, ' de ',len(Lista_C)*len(Lista_n)*len(Lista_sigma))"
   ]
  },
  {
   "cell_type": "markdown",
   "metadata": {},
   "source": [
    "# <center> Radial and Tangential speed of sound squared\n",
    "# <center> C7"
   ]
  },
  {
   "cell_type": "code",
   "execution_count": null,
   "metadata": {},
   "outputs": [],
   "source": [
    "count1 = 0\n",
    "count2 = 0\n",
    "\n",
    "for i in range(len(Lista_C)):\n",
    "    \n",
    "    for j in range(len(Lista_n)):\n",
    "        \n",
    "        for k in range(len(Lista_sigma)):\n",
    "            \n",
    "            if any(ListaModelos[i][j][k][9] > 1):\n",
    "                print('Velocidad del sonido > 1. Parámetros: ','C = %.3f, '%(Lista_C[i]),\n",
    "                     'n = %.1f, '%(Lista_n[j]),'\\u03c3 = %.2f, '%(Lista_sigma[k]))\n",
    "                count1 = count1 + 1\n",
    "            else:\n",
    "                pass\n",
    "            \n",
    "            if any(ListaModelos[i][j][k][10] > 1):                \n",
    "                print('Velocidad del sonido tangencial > 1. Parámetros: ','C = %.3f, '%(Lista_C[i]),\n",
    "                     'n = %.1f, '%(Lista_n[j]),'\\u03c3 = %.2f, '%(Lista_sigma[k]))\n",
    "                count2 = count2 + 1\n",
    "            else:\n",
    "                continue\n",
    "                \n",
    "print('Número total de modelos que no cumplen: ', count1, ' de ',len(Lista_C)*len(Lista_n)*len(Lista_sigma))\n",
    "print('Número total de modelos que no cumplen: ', count2, ' de ',len(Lista_C)*len(Lista_n)*len(Lista_sigma))"
   ]
  },
  {
   "cell_type": "markdown",
   "metadata": {},
   "source": [
    "# <center> Adiabatic index Gamma\n",
    "# <center> C8"
   ]
  },
  {
   "cell_type": "code",
   "execution_count": null,
   "metadata": {},
   "outputs": [],
   "source": [
    "count = 0\n",
    "\n",
    "for i in range(len(Lista_C)):\n",
    "    \n",
    "    for j in range(len(Lista_n)):\n",
    "        \n",
    "        for k in range(len(Lista_sigma)):\n",
    "            \n",
    "            if any(ListaModelos[i][j][k][11] < 4/3):\n",
    "                print('Gamma < 4/3. Parámetros: ','C = %.3f, '%(Lista_C[i]),\n",
    "                     'n = %.1f, '%(Lista_n[j]),'\\u03c3 = %.2f, '%(Lista_sigma[k]))\n",
    "                count = count + 1\n",
    "            else:\n",
    "                continue\n",
    "                \n",
    "print('Número total de modelos que no cumplen: ', count, ' de ',len(Lista_C)*len(Lista_n)*len(Lista_sigma))"
   ]
  },
  {
   "cell_type": "markdown",
   "metadata": {},
   "source": [
    "# <center> Cracking\n",
    "# <center> C9"
   ]
  },
  {
   "cell_type": "code",
   "execution_count": null,
   "metadata": {},
   "outputs": [],
   "source": [
    "count = 0\n",
    "\n",
    "for i in range(len(Lista_C)):\n",
    "    \n",
    "    for j in range(len(Lista_n)):\n",
    "        \n",
    "        for k in range(len(Lista_sigma)):\n",
    "            \n",
    "            if any(np.diff(np.sign(ListaModelos[i][j][k][12][100:])) != 0):\n",
    "                print('El modelo fractura. Parámetros: ','C = %.3f, '%(Lista_C[i]),\n",
    "                     'n = %.1f, '%(Lista_n[j]),'\\u03c3 = %.2f, '%(Lista_sigma[k]))\n",
    "                count = count + 1\n",
    "            else:\n",
    "                continue\n",
    "                \n",
    "print('Número total de modelos que no cumplen: ', count, ' de ',len(Lista_C)*len(Lista_n)*len(Lista_sigma))"
   ]
  },
  {
   "cell_type": "markdown",
   "metadata": {},
   "source": [
    "# <center> Convective Stability\n",
    "# <center> C11"
   ]
  },
  {
   "cell_type": "code",
   "execution_count": null,
   "metadata": {},
   "outputs": [],
   "source": [
    "count = 0\n",
    "\n",
    "for i in range(len(Lista_C)):\n",
    "    \n",
    "    for j in range(len(Lista_n)):\n",
    "        \n",
    "        for k in range(len(Lista_sigma)):\n",
    "            \n",
    "            if any(ListaModelos[i][j][k][13] > 0):\n",
    "                print('Inestable ante perturbaciones convectivas. Parámetros: ','C = %.3f, '%(Lista_C[i]),\n",
    "                     'n = %.1f, '%(Lista_n[j]),'\\u03c3 = %.2f, '%(Lista_sigma[k]))\n",
    "                count = count + 1                \n",
    "            else:\n",
    "                continue\n",
    "                \n",
    "print('Número total de modelos que no cumplen: ', count, ' de ',len(Lista_C)*len(Lista_n)*len(Lista_sigma))"
   ]
  },
  {
   "cell_type": "code",
   "execution_count": null,
   "metadata": {},
   "outputs": [],
   "source": []
  }
 ],
 "metadata": {
  "kernelspec": {
   "display_name": "Python 3",
   "language": "python",
   "name": "python3"
  },
  "language_info": {
   "codemirror_mode": {
    "name": "ipython",
    "version": 3
   },
   "file_extension": ".py",
   "mimetype": "text/x-python",
   "name": "python",
   "nbconvert_exporter": "python",
   "pygments_lexer": "ipython3",
   "version": "3.6.4"
  }
 },
 "nbformat": 4,
 "nbformat_minor": 2
}
